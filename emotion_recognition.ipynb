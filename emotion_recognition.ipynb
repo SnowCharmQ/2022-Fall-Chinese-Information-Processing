{
 "cells": [
  {
   "cell_type": "markdown",
   "source": [],
   "metadata": {
    "collapsed": false
   }
  },
  {
   "cell_type": "markdown",
   "source": [
    "# 基于神经网络的文本相关声纹识别"
   ],
   "metadata": {
    "collapsed": false
   }
  },
  {
   "cell_type": "code",
   "execution_count": 1,
   "outputs": [],
   "source": [
    "import os\n",
    "import gc\n",
    "import warnings\n",
    "import numpy as np\n",
    "import pandas as pd\n",
    "import librosa.display\n",
    "import matplotlib.pyplot as plt\n",
    "from sklearn.utils import shuffle\n",
    "from sklearn.preprocessing import LabelEncoder\n",
    "from sklearn.model_selection import train_test_split\n",
    "from keras.utils import np_utils\n",
    "from keras.models import Sequential, model_from_json\n",
    "from keras.layers import *\n",
    "from keras import optimizers\n",
    "\n",
    "warnings.filterwarnings('ignore')"
   ],
   "metadata": {
    "collapsed": false
   }
  },
  {
   "cell_type": "markdown",
   "source": [
    "##### 通过路径返回训练音频列表"
   ],
   "metadata": {
    "collapsed": false
   }
  },
  {
   "cell_type": "code",
   "execution_count": 2,
   "outputs": [],
   "source": [
    "# -*- coding: utf-8 -*-\n",
    "def listdir(path: str, list_name: list):\n",
    "    for file in os.listdir(path):\n",
    "        file_path = os.path.join(path, file)\n",
    "        if os.path.isdir(file_path):\n",
    "            listdir(file_path, list_name)\n",
    "        elif os.path.splitext(file_path)[1] == '.wav':\n",
    "            list_name.append(file_path)\n",
    "    return list_name"
   ],
   "metadata": {
    "collapsed": false
   }
  },
  {
   "cell_type": "code",
   "execution_count": 3,
   "outputs": [],
   "source": [
    "list_name = list()\n",
    "list_name = listdir('RawData/CASIA database', list_name)"
   ],
   "metadata": {
    "collapsed": false
   }
  },
  {
   "cell_type": "markdown",
   "source": [
    "##### 情感分类标签"
   ],
   "metadata": {
    "collapsed": false
   }
  },
  {
   "cell_type": "code",
   "execution_count": 4,
   "outputs": [],
   "source": [
    "label_list = list()\n",
    "for i in range(len(list_name)):\n",
    "    name = list_name[i]\n",
    "    if \"angry\" in name:\n",
    "        label_list.append(\"angry\")\n",
    "    elif \"fear\" in name:\n",
    "        label_list.append(\"fear\")\n",
    "    elif \"happy\" in name:\n",
    "        label_list.append(\"happy\")\n",
    "    elif \"neutral\" in name:\n",
    "        label_list.append(\"neutral\")\n",
    "    elif \"sad\" in name:\n",
    "        label_list.append(\"sad\")\n",
    "    elif \"surprise\" in name:\n",
    "        label_list.append(\"surprise\")\n",
    "    else:\n",
    "        label_list.append(\"nothing\")\n",
    "labels = pd.DataFrame(label_list)"
   ],
   "metadata": {
    "collapsed": false
   }
  },
  {
   "cell_type": "markdown",
   "source": [
    "##### 加载音频文件，并通过MFCC算法分析其特性"
   ],
   "metadata": {
    "collapsed": false
   }
  },
  {
   "cell_type": "code",
   "execution_count": 5,
   "outputs": [],
   "source": [
    "df = pd.DataFrame(columns=['feature'])\n",
    "bookmark = 0\n",
    "for index, y in enumerate(list_name):\n",
    "    #音频导入函数\n",
    "    # X : 音频的信号值，类型是ndarray,sample_rate : 采样率\n",
    "    # y 音频路径|sr 采样率（默认22050，但是有重采样的功能）\n",
    "    # duration 获取音频的时长 |offset 音频读取的时间\n",
    "    # https://www.cnblogs.com/xingshansi/p/6816308.html\n",
    "    X, sample_rate = librosa.load(y, res_type='kaiser_fast'\n",
    "                                  , duration=2.5, sr=22050 * 2, offset=0.5)\n",
    "    #得到采样率\n",
    "    sample_rate = np.array(sample_rate)\n",
    "    # MFCC提取：\n",
    "    # https://www.jianshu.com/p/24044f4c3531\n",
    "    # 并且求取平均值\n",
    "    mfccs = np.mean(librosa.feature.mfcc(y=X,\n",
    "                                         sr=sample_rate,\n",
    "                                         n_mfcc=13),\n",
    "                    axis=0)\n",
    "    #获取音频特征\n",
    "    feature = mfccs\n",
    "    df.loc[bookmark] = [feature]\n",
    "    bookmark = bookmark + 1"
   ],
   "metadata": {
    "collapsed": false
   }
  },
  {
   "cell_type": "markdown",
   "source": [
    "##### 将分析的数据作为feature和label相关联"
   ],
   "metadata": {
    "collapsed": false
   }
  },
  {
   "cell_type": "code",
   "execution_count": 6,
   "outputs": [
    {
     "data": {
      "text/plain": "            0          1          2          3          4          5    \\\n22     2.773206  -1.307503  -5.761493  -4.774549 -10.340865  -4.606022   \n761   -3.124572  -7.044438 -14.995502 -14.869874 -16.752195 -16.599113   \n1022  -9.190633 -11.353573 -17.403633 -21.465879 -19.033947 -13.876021   \n226   -8.195778  -5.772729  -6.888565 -11.058973 -13.191820 -12.493199   \n33    -2.601954  -6.452249 -10.858963 -14.394016 -16.919163 -15.545549   \n...         ...        ...        ...        ...        ...        ...   \n500  -22.429386 -23.513510 -24.331617 -25.051685 -25.045017 -24.907808   \n337   -7.701246 -11.520564 -17.825970 -19.878010 -23.826769 -25.471651   \n80   -19.016932 -15.369948 -13.111642 -10.553329 -11.704426 -15.327604   \n18    -1.383584   0.696216   1.549805  -2.323098 -10.815268 -14.704565   \n882   -8.570110  -9.742430 -11.525583 -11.017982 -11.583828 -10.664733   \n\n            6          7          8          9    ...  207  208  209  210  \\\n22     0.600418   2.328376  -1.005895  -1.168338  ...  0.0  0.0  0.0  0.0   \n761  -17.550007 -16.249836 -17.463436 -18.098955  ...  0.0  0.0  0.0  0.0   \n1022 -13.714732 -15.421645 -17.834543 -17.199505  ...  0.0  0.0  0.0  0.0   \n226  -11.826479 -13.329823 -14.094253 -15.457192  ...  0.0  0.0  0.0  0.0   \n33   -13.904368 -15.994692 -19.464695 -23.434299  ...  0.0  0.0  0.0  0.0   \n...         ...        ...        ...        ...  ...  ...  ...  ...  ...   \n500  -24.375624 -23.324474 -18.010513  -7.844188  ...  0.0  0.0  0.0  0.0   \n337  -24.532169 -24.495121 -21.583321 -19.020922  ...  0.0  0.0  0.0  0.0   \n80   -15.620792 -15.559501 -17.799173 -19.285042  ...  0.0  0.0  0.0  0.0   \n18   -14.887345  -7.623961  -4.929608  -5.906154  ...  0.0  0.0  0.0  0.0   \n882   -9.953393 -10.499544 -13.547720 -12.973309  ...  0.0  0.0  0.0  0.0   \n\n      211  212  213  214  215       0    \n22    0.0  0.0  0.0  0.0  0.0     angry  \n761   0.0  0.0  0.0  0.0  0.0   neutral  \n1022  0.0  0.0  0.0  0.0  0.0     happy  \n226   0.0  0.0  0.0  0.0  0.0       sad  \n33    0.0  0.0  0.0  0.0  0.0     angry  \n...   ...  ...  ...  ...  ...       ...  \n500   0.0  0.0  0.0  0.0  0.0       sad  \n337   0.0  0.0  0.0  0.0  0.0     angry  \n80    0.0  0.0  0.0  0.0  0.0      fear  \n18    0.0  0.0  0.0  0.0  0.0     angry  \n882   0.0  0.0  0.0  0.0  0.0  surprise  \n\n[1200 rows x 217 columns]",
      "text/html": "<div>\n<style scoped>\n    .dataframe tbody tr th:only-of-type {\n        vertical-align: middle;\n    }\n\n    .dataframe tbody tr th {\n        vertical-align: top;\n    }\n\n    .dataframe thead th {\n        text-align: right;\n    }\n</style>\n<table border=\"1\" class=\"dataframe\">\n  <thead>\n    <tr style=\"text-align: right;\">\n      <th></th>\n      <th>0</th>\n      <th>1</th>\n      <th>2</th>\n      <th>3</th>\n      <th>4</th>\n      <th>5</th>\n      <th>6</th>\n      <th>7</th>\n      <th>8</th>\n      <th>9</th>\n      <th>...</th>\n      <th>207</th>\n      <th>208</th>\n      <th>209</th>\n      <th>210</th>\n      <th>211</th>\n      <th>212</th>\n      <th>213</th>\n      <th>214</th>\n      <th>215</th>\n      <th>0</th>\n    </tr>\n  </thead>\n  <tbody>\n    <tr>\n      <th>22</th>\n      <td>2.773206</td>\n      <td>-1.307503</td>\n      <td>-5.761493</td>\n      <td>-4.774549</td>\n      <td>-10.340865</td>\n      <td>-4.606022</td>\n      <td>0.600418</td>\n      <td>2.328376</td>\n      <td>-1.005895</td>\n      <td>-1.168338</td>\n      <td>...</td>\n      <td>0.0</td>\n      <td>0.0</td>\n      <td>0.0</td>\n      <td>0.0</td>\n      <td>0.0</td>\n      <td>0.0</td>\n      <td>0.0</td>\n      <td>0.0</td>\n      <td>0.0</td>\n      <td>angry</td>\n    </tr>\n    <tr>\n      <th>761</th>\n      <td>-3.124572</td>\n      <td>-7.044438</td>\n      <td>-14.995502</td>\n      <td>-14.869874</td>\n      <td>-16.752195</td>\n      <td>-16.599113</td>\n      <td>-17.550007</td>\n      <td>-16.249836</td>\n      <td>-17.463436</td>\n      <td>-18.098955</td>\n      <td>...</td>\n      <td>0.0</td>\n      <td>0.0</td>\n      <td>0.0</td>\n      <td>0.0</td>\n      <td>0.0</td>\n      <td>0.0</td>\n      <td>0.0</td>\n      <td>0.0</td>\n      <td>0.0</td>\n      <td>neutral</td>\n    </tr>\n    <tr>\n      <th>1022</th>\n      <td>-9.190633</td>\n      <td>-11.353573</td>\n      <td>-17.403633</td>\n      <td>-21.465879</td>\n      <td>-19.033947</td>\n      <td>-13.876021</td>\n      <td>-13.714732</td>\n      <td>-15.421645</td>\n      <td>-17.834543</td>\n      <td>-17.199505</td>\n      <td>...</td>\n      <td>0.0</td>\n      <td>0.0</td>\n      <td>0.0</td>\n      <td>0.0</td>\n      <td>0.0</td>\n      <td>0.0</td>\n      <td>0.0</td>\n      <td>0.0</td>\n      <td>0.0</td>\n      <td>happy</td>\n    </tr>\n    <tr>\n      <th>226</th>\n      <td>-8.195778</td>\n      <td>-5.772729</td>\n      <td>-6.888565</td>\n      <td>-11.058973</td>\n      <td>-13.191820</td>\n      <td>-12.493199</td>\n      <td>-11.826479</td>\n      <td>-13.329823</td>\n      <td>-14.094253</td>\n      <td>-15.457192</td>\n      <td>...</td>\n      <td>0.0</td>\n      <td>0.0</td>\n      <td>0.0</td>\n      <td>0.0</td>\n      <td>0.0</td>\n      <td>0.0</td>\n      <td>0.0</td>\n      <td>0.0</td>\n      <td>0.0</td>\n      <td>sad</td>\n    </tr>\n    <tr>\n      <th>33</th>\n      <td>-2.601954</td>\n      <td>-6.452249</td>\n      <td>-10.858963</td>\n      <td>-14.394016</td>\n      <td>-16.919163</td>\n      <td>-15.545549</td>\n      <td>-13.904368</td>\n      <td>-15.994692</td>\n      <td>-19.464695</td>\n      <td>-23.434299</td>\n      <td>...</td>\n      <td>0.0</td>\n      <td>0.0</td>\n      <td>0.0</td>\n      <td>0.0</td>\n      <td>0.0</td>\n      <td>0.0</td>\n      <td>0.0</td>\n      <td>0.0</td>\n      <td>0.0</td>\n      <td>angry</td>\n    </tr>\n    <tr>\n      <th>...</th>\n      <td>...</td>\n      <td>...</td>\n      <td>...</td>\n      <td>...</td>\n      <td>...</td>\n      <td>...</td>\n      <td>...</td>\n      <td>...</td>\n      <td>...</td>\n      <td>...</td>\n      <td>...</td>\n      <td>...</td>\n      <td>...</td>\n      <td>...</td>\n      <td>...</td>\n      <td>...</td>\n      <td>...</td>\n      <td>...</td>\n      <td>...</td>\n      <td>...</td>\n      <td>...</td>\n    </tr>\n    <tr>\n      <th>500</th>\n      <td>-22.429386</td>\n      <td>-23.513510</td>\n      <td>-24.331617</td>\n      <td>-25.051685</td>\n      <td>-25.045017</td>\n      <td>-24.907808</td>\n      <td>-24.375624</td>\n      <td>-23.324474</td>\n      <td>-18.010513</td>\n      <td>-7.844188</td>\n      <td>...</td>\n      <td>0.0</td>\n      <td>0.0</td>\n      <td>0.0</td>\n      <td>0.0</td>\n      <td>0.0</td>\n      <td>0.0</td>\n      <td>0.0</td>\n      <td>0.0</td>\n      <td>0.0</td>\n      <td>sad</td>\n    </tr>\n    <tr>\n      <th>337</th>\n      <td>-7.701246</td>\n      <td>-11.520564</td>\n      <td>-17.825970</td>\n      <td>-19.878010</td>\n      <td>-23.826769</td>\n      <td>-25.471651</td>\n      <td>-24.532169</td>\n      <td>-24.495121</td>\n      <td>-21.583321</td>\n      <td>-19.020922</td>\n      <td>...</td>\n      <td>0.0</td>\n      <td>0.0</td>\n      <td>0.0</td>\n      <td>0.0</td>\n      <td>0.0</td>\n      <td>0.0</td>\n      <td>0.0</td>\n      <td>0.0</td>\n      <td>0.0</td>\n      <td>angry</td>\n    </tr>\n    <tr>\n      <th>80</th>\n      <td>-19.016932</td>\n      <td>-15.369948</td>\n      <td>-13.111642</td>\n      <td>-10.553329</td>\n      <td>-11.704426</td>\n      <td>-15.327604</td>\n      <td>-15.620792</td>\n      <td>-15.559501</td>\n      <td>-17.799173</td>\n      <td>-19.285042</td>\n      <td>...</td>\n      <td>0.0</td>\n      <td>0.0</td>\n      <td>0.0</td>\n      <td>0.0</td>\n      <td>0.0</td>\n      <td>0.0</td>\n      <td>0.0</td>\n      <td>0.0</td>\n      <td>0.0</td>\n      <td>fear</td>\n    </tr>\n    <tr>\n      <th>18</th>\n      <td>-1.383584</td>\n      <td>0.696216</td>\n      <td>1.549805</td>\n      <td>-2.323098</td>\n      <td>-10.815268</td>\n      <td>-14.704565</td>\n      <td>-14.887345</td>\n      <td>-7.623961</td>\n      <td>-4.929608</td>\n      <td>-5.906154</td>\n      <td>...</td>\n      <td>0.0</td>\n      <td>0.0</td>\n      <td>0.0</td>\n      <td>0.0</td>\n      <td>0.0</td>\n      <td>0.0</td>\n      <td>0.0</td>\n      <td>0.0</td>\n      <td>0.0</td>\n      <td>angry</td>\n    </tr>\n    <tr>\n      <th>882</th>\n      <td>-8.570110</td>\n      <td>-9.742430</td>\n      <td>-11.525583</td>\n      <td>-11.017982</td>\n      <td>-11.583828</td>\n      <td>-10.664733</td>\n      <td>-9.953393</td>\n      <td>-10.499544</td>\n      <td>-13.547720</td>\n      <td>-12.973309</td>\n      <td>...</td>\n      <td>0.0</td>\n      <td>0.0</td>\n      <td>0.0</td>\n      <td>0.0</td>\n      <td>0.0</td>\n      <td>0.0</td>\n      <td>0.0</td>\n      <td>0.0</td>\n      <td>0.0</td>\n      <td>surprise</td>\n    </tr>\n  </tbody>\n</table>\n<p>1200 rows × 217 columns</p>\n</div>"
     },
     "execution_count": 6,
     "metadata": {},
     "output_type": "execute_result"
    }
   ],
   "source": [
    "df = pd.DataFrame(df['feature'].values.tolist())\n",
    "newdf = pd.concat([df, labels], axis=1)\n",
    "rnewdf = shuffle(newdf)\n",
    "rnewdf = rnewdf.fillna(0)\n",
    "rnewdf"
   ],
   "metadata": {
    "collapsed": false
   }
  },
  {
   "cell_type": "code",
   "execution_count": 7,
   "outputs": [],
   "source": [
    "features = rnewdf.iloc[:, :-1]\n",
    "labels = rnewdf.iloc[:, -1:]"
   ],
   "metadata": {
    "collapsed": false
   }
  },
  {
   "cell_type": "markdown",
   "source": [
    "##### 将数据集分为训练集、验证集和测试集"
   ],
   "metadata": {
    "collapsed": false
   }
  },
  {
   "cell_type": "code",
   "execution_count": 8,
   "outputs": [],
   "source": [
    "X_train_val, X_test, y_train_val, y_test = train_test_split(features, labels, test_size=0.1, shuffle=True,\n",
    "                                                            random_state=1)\n",
    "X_train, X_val, y_train, y_val = train_test_split(X_train_val, y_train_val, test_size=0.2, shuffle=True,\n",
    "                                                  random_state=1)"
   ],
   "metadata": {
    "collapsed": false
   }
  },
  {
   "cell_type": "markdown",
   "source": [
    "##### 训练与测试音频数：720个训练音频, 240个验证音频，240个测试音频"
   ],
   "metadata": {
    "collapsed": false
   }
  },
  {
   "cell_type": "code",
   "execution_count": 9,
   "outputs": [
    {
     "name": "stdout",
     "output_type": "stream",
     "text": [
      "(864, 216)\n",
      "(216, 216)\n",
      "(120, 216)\n",
      "(864, 1)\n",
      "(216, 1)\n",
      "(120, 1)\n"
     ]
    }
   ],
   "source": [
    "print(X_train.shape)\n",
    "print(X_val.shape)\n",
    "print(X_test.shape)\n",
    "print(y_train.shape)\n",
    "print(y_val.shape)\n",
    "print(y_test.shape)"
   ],
   "metadata": {
    "collapsed": false
   }
  },
  {
   "cell_type": "markdown",
   "source": [
    "##### 转换成numpy数组或矩阵"
   ],
   "metadata": {
    "collapsed": false
   }
  },
  {
   "cell_type": "code",
   "execution_count": 10,
   "outputs": [],
   "source": [
    "lb = LabelEncoder()\n",
    "\n",
    "X_train = np.expand_dims(X_train, axis=2)\n",
    "X_val = np.expand_dims(X_val, axis=2)\n",
    "X_test = np.expand_dims(X_test, axis=2)\n",
    "y_train = np_utils.to_categorical(lb.fit_transform(y_train))\n",
    "y_val = np_utils.to_categorical(lb.fit_transform(y_val))\n",
    "y_test = np_utils.to_categorical(lb.fit_transform(y_test))"
   ],
   "metadata": {
    "collapsed": false
   }
  },
  {
   "cell_type": "markdown",
   "source": [
    "###### 构造训练模型"
   ],
   "metadata": {
    "collapsed": false
   }
  },
  {
   "cell_type": "code",
   "execution_count": 11,
   "outputs": [
    {
     "name": "stdout",
     "output_type": "stream",
     "text": [
      "Model: \"sequential\"\n",
      "_________________________________________________________________\n",
      " Layer (type)                Output Shape              Param #   \n",
      "=================================================================\n",
      " conv1d (Conv1D)             (None, 216, 256)          1536      \n",
      "                                                                 \n",
      " batch_normalization (BatchN  (None, 216, 256)         1024      \n",
      " ormalization)                                                   \n",
      "                                                                 \n",
      " activation (Activation)     (None, 216, 256)          0         \n",
      "                                                                 \n",
      " conv1d_1 (Conv1D)           (None, 216, 128)          163968    \n",
      "                                                                 \n",
      " batch_normalization_1 (Batc  (None, 216, 128)         512       \n",
      " hNormalization)                                                 \n",
      "                                                                 \n",
      " activation_1 (Activation)   (None, 216, 128)          0         \n",
      "                                                                 \n",
      " conv1d_2 (Conv1D)           (None, 216, 128)          82048     \n",
      "                                                                 \n",
      " batch_normalization_2 (Batc  (None, 216, 128)         512       \n",
      " hNormalization)                                                 \n",
      "                                                                 \n",
      " activation_2 (Activation)   (None, 216, 128)          0         \n",
      "                                                                 \n",
      " conv1d_3 (Conv1D)           (None, 216, 128)          82048     \n",
      "                                                                 \n",
      " batch_normalization_3 (Batc  (None, 216, 128)         512       \n",
      " hNormalization)                                                 \n",
      "                                                                 \n",
      " activation_3 (Activation)   (None, 216, 128)          0         \n",
      "                                                                 \n",
      " conv1d_4 (Conv1D)           (None, 216, 128)          82048     \n",
      "                                                                 \n",
      " batch_normalization_4 (Batc  (None, 216, 128)         512       \n",
      " hNormalization)                                                 \n",
      "                                                                 \n",
      " activation_4 (Activation)   (None, 216, 128)          0         \n",
      "                                                                 \n",
      " flatten (Flatten)           (None, 27648)             0         \n",
      "                                                                 \n",
      " dense (Dense)               (None, 6)                 165894    \n",
      "                                                                 \n",
      " activation_5 (Activation)   (None, 6)                 0         \n",
      "                                                                 \n",
      "=================================================================\n",
      "Total params: 580,614\n",
      "Trainable params: 579,078\n",
      "Non-trainable params: 1,536\n",
      "_________________________________________________________________\n"
     ]
    }
   ],
   "source": [
    "model = Sequential()\n",
    "\n",
    "model.add(Conv1D(256, 5, padding='same', input_shape=(216, 1)))\n",
    "model.add(BatchNormalizationV1())\n",
    "model.add(Activation('relu'))\n",
    "model.add(Conv1D(128, 5, padding='same'))\n",
    "model.add(BatchNormalizationV1())\n",
    "model.add(Activation('relu'))\n",
    "model.add(Conv1D(128, 5, padding='same', ))\n",
    "model.add(BatchNormalizationV1())\n",
    "model.add(Activation('relu'))\n",
    "model.add(Conv1D(128, 5, padding='same', ))\n",
    "model.add(BatchNormalizationV1())\n",
    "model.add(Activation('relu'))\n",
    "model.add(Conv1D(128, 5, padding='same', ))\n",
    "model.add(BatchNormalizationV1())\n",
    "model.add(Activation('relu'))\n",
    "model.add(Flatten())\n",
    "model.add(Dense(6))\n",
    "model.add(Activation('softmax'))\n",
    "model.summary()\n",
    "opt = optimizers.RMSprop(learning_rate=0.00001, decay=1e-6)"
   ],
   "metadata": {
    "collapsed": false
   }
  },
  {
   "cell_type": "code",
   "execution_count": 12,
   "outputs": [],
   "source": [
    "model.compile(loss='categorical_crossentropy', optimizer=opt, metrics=['accuracy'])"
   ],
   "metadata": {
    "collapsed": false
   }
  },
  {
   "cell_type": "markdown",
   "source": [
    "##### 模型训练"
   ],
   "metadata": {
    "collapsed": false
   }
  },
  {
   "cell_type": "code",
   "execution_count": 13,
   "outputs": [
    {
     "name": "stdout",
     "output_type": "stream",
     "text": [
      "Epoch 1/200\n",
      "7/7 [==============================] - 10s 1s/step - loss: 1.9366 - accuracy: 0.2072 - val_loss: 1.8909 - val_accuracy: 0.1481\n",
      "Epoch 2/200\n",
      "7/7 [==============================] - 7s 1s/step - loss: 1.7533 - accuracy: 0.2720 - val_loss: 1.8515 - val_accuracy: 0.1435\n",
      "Epoch 3/200\n",
      "7/7 [==============================] - 6s 888ms/step - loss: 1.6571 - accuracy: 0.3183 - val_loss: 1.8222 - val_accuracy: 0.1852\n",
      "Epoch 4/200\n",
      "7/7 [==============================] - 6s 905ms/step - loss: 1.5800 - accuracy: 0.3692 - val_loss: 1.7998 - val_accuracy: 0.1944\n",
      "Epoch 5/200\n",
      "7/7 [==============================] - 6s 905ms/step - loss: 1.5149 - accuracy: 0.3993 - val_loss: 1.7801 - val_accuracy: 0.2176\n",
      "Epoch 6/200\n",
      "7/7 [==============================] - 6s 896ms/step - loss: 1.4502 - accuracy: 0.4433 - val_loss: 1.7693 - val_accuracy: 0.2269\n",
      "Epoch 7/200\n",
      "7/7 [==============================] - 6s 900ms/step - loss: 1.3995 - accuracy: 0.4664 - val_loss: 1.7599 - val_accuracy: 0.2407\n",
      "Epoch 8/200\n",
      "7/7 [==============================] - 6s 903ms/step - loss: 1.3467 - accuracy: 0.4942 - val_loss: 1.7541 - val_accuracy: 0.2454\n",
      "Epoch 9/200\n",
      "7/7 [==============================] - 7s 1s/step - loss: 1.3055 - accuracy: 0.5174 - val_loss: 1.7497 - val_accuracy: 0.2361\n",
      "Epoch 10/200\n",
      "7/7 [==============================] - 7s 980ms/step - loss: 1.2580 - accuracy: 0.5255 - val_loss: 1.7444 - val_accuracy: 0.2269\n",
      "Epoch 11/200\n",
      "7/7 [==============================] - 7s 960ms/step - loss: 1.2158 - accuracy: 0.5637 - val_loss: 1.7423 - val_accuracy: 0.2269\n",
      "Epoch 12/200\n",
      "7/7 [==============================] - 6s 899ms/step - loss: 1.1786 - accuracy: 0.5810 - val_loss: 1.7369 - val_accuracy: 0.2222\n",
      "Epoch 13/200\n",
      "7/7 [==============================] - 6s 907ms/step - loss: 1.1500 - accuracy: 0.5926 - val_loss: 1.7368 - val_accuracy: 0.2315\n",
      "Epoch 14/200\n",
      "7/7 [==============================] - 6s 881ms/step - loss: 1.1100 - accuracy: 0.6157 - val_loss: 1.7312 - val_accuracy: 0.2454\n",
      "Epoch 15/200\n",
      "7/7 [==============================] - 6s 863ms/step - loss: 1.0758 - accuracy: 0.6528 - val_loss: 1.7294 - val_accuracy: 0.2500\n",
      "Epoch 16/200\n",
      "7/7 [==============================] - 6s 831ms/step - loss: 1.0488 - accuracy: 0.6539 - val_loss: 1.7239 - val_accuracy: 0.2593\n",
      "Epoch 17/200\n",
      "7/7 [==============================] - 6s 850ms/step - loss: 1.0205 - accuracy: 0.6597 - val_loss: 1.7179 - val_accuracy: 0.2593\n",
      "Epoch 18/200\n",
      "7/7 [==============================] - 6s 845ms/step - loss: 0.9866 - accuracy: 0.6852 - val_loss: 1.7182 - val_accuracy: 0.2685\n",
      "Epoch 19/200\n",
      "7/7 [==============================] - 6s 850ms/step - loss: 0.9575 - accuracy: 0.7037 - val_loss: 1.7149 - val_accuracy: 0.2685\n",
      "Epoch 20/200\n",
      "7/7 [==============================] - 6s 859ms/step - loss: 0.9305 - accuracy: 0.7222 - val_loss: 1.7010 - val_accuracy: 0.2593\n",
      "Epoch 21/200\n",
      "7/7 [==============================] - 6s 859ms/step - loss: 0.9034 - accuracy: 0.7292 - val_loss: 1.6972 - val_accuracy: 0.2639\n",
      "Epoch 22/200\n",
      "7/7 [==============================] - 6s 933ms/step - loss: 0.8837 - accuracy: 0.7465 - val_loss: 1.6926 - val_accuracy: 0.2731\n",
      "Epoch 23/200\n",
      "7/7 [==============================] - 6s 900ms/step - loss: 0.8663 - accuracy: 0.7581 - val_loss: 1.6787 - val_accuracy: 0.2593\n",
      "Epoch 24/200\n",
      "7/7 [==============================] - 6s 911ms/step - loss: 0.8345 - accuracy: 0.7708 - val_loss: 1.6753 - val_accuracy: 0.2593\n",
      "Epoch 25/200\n",
      "7/7 [==============================] - 6s 906ms/step - loss: 0.8164 - accuracy: 0.7824 - val_loss: 1.6604 - val_accuracy: 0.2870\n",
      "Epoch 26/200\n",
      "7/7 [==============================] - 6s 883ms/step - loss: 0.7920 - accuracy: 0.8021 - val_loss: 1.6499 - val_accuracy: 0.2963\n",
      "Epoch 27/200\n",
      "7/7 [==============================] - 6s 856ms/step - loss: 0.7705 - accuracy: 0.8032 - val_loss: 1.6417 - val_accuracy: 0.2917\n",
      "Epoch 28/200\n",
      "7/7 [==============================] - 6s 904ms/step - loss: 0.7492 - accuracy: 0.8206 - val_loss: 1.6233 - val_accuracy: 0.3102\n",
      "Epoch 29/200\n",
      "7/7 [==============================] - 6s 888ms/step - loss: 0.7295 - accuracy: 0.8299 - val_loss: 1.6123 - val_accuracy: 0.3287\n",
      "Epoch 30/200\n",
      "7/7 [==============================] - 6s 882ms/step - loss: 0.7103 - accuracy: 0.8438 - val_loss: 1.6016 - val_accuracy: 0.3380\n",
      "Epoch 31/200\n",
      "7/7 [==============================] - 6s 902ms/step - loss: 0.6859 - accuracy: 0.8449 - val_loss: 1.5864 - val_accuracy: 0.3519\n",
      "Epoch 32/200\n",
      "7/7 [==============================] - 6s 903ms/step - loss: 0.6728 - accuracy: 0.8495 - val_loss: 1.5767 - val_accuracy: 0.3426\n",
      "Epoch 33/200\n",
      "7/7 [==============================] - 7s 959ms/step - loss: 0.6567 - accuracy: 0.8692 - val_loss: 1.5589 - val_accuracy: 0.3611\n",
      "Epoch 34/200\n",
      "7/7 [==============================] - 6s 863ms/step - loss: 0.6347 - accuracy: 0.8738 - val_loss: 1.5528 - val_accuracy: 0.3704\n",
      "Epoch 35/200\n",
      "7/7 [==============================] - 6s 860ms/step - loss: 0.6200 - accuracy: 0.8877 - val_loss: 1.5261 - val_accuracy: 0.3843\n",
      "Epoch 36/200\n",
      "7/7 [==============================] - 6s 832ms/step - loss: 0.6016 - accuracy: 0.8889 - val_loss: 1.5186 - val_accuracy: 0.3843\n",
      "Epoch 37/200\n",
      "7/7 [==============================] - 6s 807ms/step - loss: 0.5889 - accuracy: 0.8958 - val_loss: 1.5118 - val_accuracy: 0.3657\n",
      "Epoch 38/200\n",
      "7/7 [==============================] - 6s 811ms/step - loss: 0.5712 - accuracy: 0.8970 - val_loss: 1.4919 - val_accuracy: 0.3704\n",
      "Epoch 39/200\n",
      "7/7 [==============================] - 6s 835ms/step - loss: 0.5634 - accuracy: 0.9005 - val_loss: 1.4816 - val_accuracy: 0.3750\n",
      "Epoch 40/200\n",
      "7/7 [==============================] - 6s 836ms/step - loss: 0.5435 - accuracy: 0.9097 - val_loss: 1.4678 - val_accuracy: 0.3981\n",
      "Epoch 41/200\n",
      "7/7 [==============================] - 6s 855ms/step - loss: 0.5342 - accuracy: 0.9132 - val_loss: 1.4523 - val_accuracy: 0.4213\n",
      "Epoch 42/200\n",
      "7/7 [==============================] - 6s 856ms/step - loss: 0.5256 - accuracy: 0.9178 - val_loss: 1.4410 - val_accuracy: 0.4398\n",
      "Epoch 43/200\n",
      "7/7 [==============================] - 6s 892ms/step - loss: 0.5063 - accuracy: 0.9190 - val_loss: 1.4292 - val_accuracy: 0.4398\n",
      "Epoch 44/200\n",
      "7/7 [==============================] - 6s 885ms/step - loss: 0.4886 - accuracy: 0.9387 - val_loss: 1.4221 - val_accuracy: 0.4444\n",
      "Epoch 45/200\n",
      "7/7 [==============================] - 6s 879ms/step - loss: 0.4777 - accuracy: 0.9387 - val_loss: 1.4178 - val_accuracy: 0.4398\n",
      "Epoch 46/200\n",
      "7/7 [==============================] - 6s 897ms/step - loss: 0.4793 - accuracy: 0.9375 - val_loss: 1.4111 - val_accuracy: 0.4444\n",
      "Epoch 47/200\n",
      "7/7 [==============================] - 6s 894ms/step - loss: 0.4539 - accuracy: 0.9398 - val_loss: 1.4022 - val_accuracy: 0.4583\n",
      "Epoch 48/200\n",
      "7/7 [==============================] - 6s 890ms/step - loss: 0.4409 - accuracy: 0.9456 - val_loss: 1.3928 - val_accuracy: 0.4583\n",
      "Epoch 49/200\n",
      "7/7 [==============================] - 6s 882ms/step - loss: 0.4346 - accuracy: 0.9456 - val_loss: 1.3780 - val_accuracy: 0.4491\n",
      "Epoch 50/200\n",
      "7/7 [==============================] - 6s 884ms/step - loss: 0.4220 - accuracy: 0.9468 - val_loss: 1.3665 - val_accuracy: 0.4583\n",
      "Epoch 51/200\n",
      "7/7 [==============================] - 6s 866ms/step - loss: 0.4137 - accuracy: 0.9537 - val_loss: 1.3624 - val_accuracy: 0.4769\n",
      "Epoch 52/200\n",
      "7/7 [==============================] - 6s 826ms/step - loss: 0.4057 - accuracy: 0.9537 - val_loss: 1.3534 - val_accuracy: 0.4630\n",
      "Epoch 53/200\n",
      "7/7 [==============================] - 6s 847ms/step - loss: 0.4017 - accuracy: 0.9525 - val_loss: 1.3511 - val_accuracy: 0.4583\n",
      "Epoch 54/200\n",
      "7/7 [==============================] - 6s 876ms/step - loss: 0.3881 - accuracy: 0.9525 - val_loss: 1.3482 - val_accuracy: 0.4769\n",
      "Epoch 55/200\n",
      "7/7 [==============================] - 6s 872ms/step - loss: 0.3699 - accuracy: 0.9664 - val_loss: 1.3445 - val_accuracy: 0.4861\n",
      "Epoch 56/200\n",
      "7/7 [==============================] - 6s 875ms/step - loss: 0.3662 - accuracy: 0.9606 - val_loss: 1.3417 - val_accuracy: 0.4676\n",
      "Epoch 57/200\n",
      "7/7 [==============================] - 6s 875ms/step - loss: 0.3504 - accuracy: 0.9676 - val_loss: 1.3272 - val_accuracy: 0.4769\n",
      "Epoch 58/200\n",
      "7/7 [==============================] - 6s 881ms/step - loss: 0.3451 - accuracy: 0.9688 - val_loss: 1.3218 - val_accuracy: 0.4815\n",
      "Epoch 59/200\n",
      "7/7 [==============================] - 6s 936ms/step - loss: 0.3326 - accuracy: 0.9769 - val_loss: 1.3270 - val_accuracy: 0.4815\n",
      "Epoch 60/200\n",
      "7/7 [==============================] - 6s 897ms/step - loss: 0.3359 - accuracy: 0.9699 - val_loss: 1.3177 - val_accuracy: 0.4861\n",
      "Epoch 61/200\n",
      "7/7 [==============================] - 6s 915ms/step - loss: 0.3131 - accuracy: 0.9769 - val_loss: 1.3213 - val_accuracy: 0.4907\n",
      "Epoch 62/200\n",
      "7/7 [==============================] - 6s 908ms/step - loss: 0.3060 - accuracy: 0.9803 - val_loss: 1.3132 - val_accuracy: 0.4815\n",
      "Epoch 63/200\n",
      "7/7 [==============================] - 6s 886ms/step - loss: 0.3011 - accuracy: 0.9769 - val_loss: 1.3088 - val_accuracy: 0.4815\n",
      "Epoch 64/200\n",
      "7/7 [==============================] - 6s 855ms/step - loss: 0.2989 - accuracy: 0.9803 - val_loss: 1.3140 - val_accuracy: 0.4954\n",
      "Epoch 65/200\n",
      "7/7 [==============================] - 6s 857ms/step - loss: 0.2850 - accuracy: 0.9838 - val_loss: 1.3207 - val_accuracy: 0.4815\n",
      "Epoch 66/200\n",
      "7/7 [==============================] - 6s 821ms/step - loss: 0.2766 - accuracy: 0.9838 - val_loss: 1.3089 - val_accuracy: 0.4861\n",
      "Epoch 67/200\n",
      "7/7 [==============================] - 6s 816ms/step - loss: 0.2690 - accuracy: 0.9861 - val_loss: 1.3063 - val_accuracy: 0.5000\n",
      "Epoch 68/200\n",
      "7/7 [==============================] - 6s 827ms/step - loss: 0.2616 - accuracy: 0.9861 - val_loss: 1.2980 - val_accuracy: 0.4954\n",
      "Epoch 69/200\n",
      "7/7 [==============================] - 6s 842ms/step - loss: 0.2540 - accuracy: 0.9884 - val_loss: 1.3060 - val_accuracy: 0.4954\n",
      "Epoch 70/200\n",
      "7/7 [==============================] - 6s 838ms/step - loss: 0.2476 - accuracy: 0.9884 - val_loss: 1.2994 - val_accuracy: 0.4954\n",
      "Epoch 71/200\n",
      "7/7 [==============================] - 6s 916ms/step - loss: 0.2421 - accuracy: 0.9919 - val_loss: 1.3106 - val_accuracy: 0.4907\n",
      "Epoch 72/200\n",
      "7/7 [==============================] - 6s 906ms/step - loss: 0.2320 - accuracy: 0.9907 - val_loss: 1.3068 - val_accuracy: 0.4861\n",
      "Epoch 73/200\n",
      "7/7 [==============================] - 6s 875ms/step - loss: 0.2315 - accuracy: 0.9919 - val_loss: 1.3080 - val_accuracy: 0.4861\n",
      "Epoch 74/200\n",
      "7/7 [==============================] - 6s 873ms/step - loss: 0.2280 - accuracy: 0.9931 - val_loss: 1.2960 - val_accuracy: 0.4954\n",
      "Epoch 75/200\n",
      "7/7 [==============================] - 6s 880ms/step - loss: 0.2154 - accuracy: 0.9965 - val_loss: 1.3053 - val_accuracy: 0.4954\n",
      "Epoch 76/200\n",
      "7/7 [==============================] - 6s 903ms/step - loss: 0.2102 - accuracy: 0.9965 - val_loss: 1.3011 - val_accuracy: 0.5000\n",
      "Epoch 77/200\n",
      "7/7 [==============================] - 6s 900ms/step - loss: 0.2034 - accuracy: 0.9942 - val_loss: 1.3001 - val_accuracy: 0.4954\n",
      "Epoch 78/200\n",
      "7/7 [==============================] - 6s 873ms/step - loss: 0.1992 - accuracy: 0.9977 - val_loss: 1.3045 - val_accuracy: 0.4907\n",
      "Epoch 79/200\n",
      "7/7 [==============================] - 6s 859ms/step - loss: 0.1915 - accuracy: 0.9977 - val_loss: 1.3006 - val_accuracy: 0.4954\n",
      "Epoch 80/200\n",
      "7/7 [==============================] - 6s 869ms/step - loss: 0.1932 - accuracy: 0.9954 - val_loss: 1.3074 - val_accuracy: 0.4954\n",
      "Epoch 81/200\n",
      "7/7 [==============================] - 6s 824ms/step - loss: 0.1836 - accuracy: 0.9977 - val_loss: 1.2981 - val_accuracy: 0.5046\n",
      "Epoch 82/200\n",
      "7/7 [==============================] - 6s 819ms/step - loss: 0.1764 - accuracy: 0.9988 - val_loss: 1.2981 - val_accuracy: 0.5000\n",
      "Epoch 83/200\n",
      "7/7 [==============================] - 6s 839ms/step - loss: 0.1737 - accuracy: 0.9977 - val_loss: 1.3066 - val_accuracy: 0.5046\n",
      "Epoch 84/200\n",
      "7/7 [==============================] - 6s 841ms/step - loss: 0.1732 - accuracy: 0.9988 - val_loss: 1.2963 - val_accuracy: 0.5185\n",
      "Epoch 85/200\n",
      "7/7 [==============================] - 6s 831ms/step - loss: 0.1724 - accuracy: 1.0000 - val_loss: 1.3035 - val_accuracy: 0.5139\n",
      "Epoch 86/200\n",
      "7/7 [==============================] - 6s 862ms/step - loss: 0.1570 - accuracy: 0.9988 - val_loss: 1.3061 - val_accuracy: 0.5139\n",
      "Epoch 87/200\n",
      "7/7 [==============================] - 6s 882ms/step - loss: 0.1594 - accuracy: 1.0000 - val_loss: 1.2987 - val_accuracy: 0.5185\n",
      "Epoch 88/200\n",
      "7/7 [==============================] - 6s 866ms/step - loss: 0.1497 - accuracy: 0.9988 - val_loss: 1.2968 - val_accuracy: 0.5046\n",
      "Epoch 89/200\n",
      "7/7 [==============================] - 6s 884ms/step - loss: 0.1476 - accuracy: 0.9988 - val_loss: 1.3023 - val_accuracy: 0.5093\n",
      "Epoch 90/200\n",
      "7/7 [==============================] - 6s 880ms/step - loss: 0.1417 - accuracy: 0.9988 - val_loss: 1.3017 - val_accuracy: 0.5185\n",
      "Epoch 91/200\n",
      "7/7 [==============================] - 7s 982ms/step - loss: 0.1391 - accuracy: 1.0000 - val_loss: 1.2951 - val_accuracy: 0.5139\n",
      "Epoch 92/200\n",
      "7/7 [==============================] - 6s 904ms/step - loss: 0.1322 - accuracy: 1.0000 - val_loss: 1.3048 - val_accuracy: 0.5185\n",
      "Epoch 93/200\n",
      "7/7 [==============================] - 6s 876ms/step - loss: 0.1322 - accuracy: 0.9988 - val_loss: 1.2980 - val_accuracy: 0.5231\n",
      "Epoch 94/200\n",
      "7/7 [==============================] - 6s 856ms/step - loss: 0.1245 - accuracy: 1.0000 - val_loss: 1.3072 - val_accuracy: 0.5278\n",
      "Epoch 95/200\n",
      "7/7 [==============================] - 6s 862ms/step - loss: 0.1216 - accuracy: 1.0000 - val_loss: 1.3061 - val_accuracy: 0.5231\n",
      "Epoch 96/200\n",
      "7/7 [==============================] - 6s 875ms/step - loss: 0.1207 - accuracy: 1.0000 - val_loss: 1.3027 - val_accuracy: 0.5278\n",
      "Epoch 97/200\n",
      "7/7 [==============================] - 6s 878ms/step - loss: 0.1130 - accuracy: 1.0000 - val_loss: 1.3058 - val_accuracy: 0.5185\n",
      "Epoch 98/200\n",
      "7/7 [==============================] - 6s 846ms/step - loss: 0.1115 - accuracy: 1.0000 - val_loss: 1.3101 - val_accuracy: 0.5278\n",
      "Epoch 99/200\n",
      "7/7 [==============================] - 6s 833ms/step - loss: 0.1111 - accuracy: 1.0000 - val_loss: 1.2962 - val_accuracy: 0.5278\n",
      "Epoch 100/200\n",
      "7/7 [==============================] - 6s 912ms/step - loss: 0.1076 - accuracy: 1.0000 - val_loss: 1.3092 - val_accuracy: 0.5370\n",
      "Epoch 101/200\n",
      "7/7 [==============================] - 6s 883ms/step - loss: 0.1019 - accuracy: 1.0000 - val_loss: 1.3052 - val_accuracy: 0.5278\n",
      "Epoch 102/200\n",
      "7/7 [==============================] - 6s 882ms/step - loss: 0.1000 - accuracy: 1.0000 - val_loss: 1.3068 - val_accuracy: 0.5370\n",
      "Epoch 103/200\n",
      "7/7 [==============================] - 6s 903ms/step - loss: 0.0953 - accuracy: 1.0000 - val_loss: 1.3036 - val_accuracy: 0.5139\n",
      "Epoch 104/200\n",
      "7/7 [==============================] - 6s 884ms/step - loss: 0.0929 - accuracy: 1.0000 - val_loss: 1.3042 - val_accuracy: 0.5278\n",
      "Epoch 105/200\n",
      "7/7 [==============================] - 6s 862ms/step - loss: 0.0936 - accuracy: 1.0000 - val_loss: 1.3013 - val_accuracy: 0.5278\n",
      "Epoch 106/200\n",
      "7/7 [==============================] - 6s 838ms/step - loss: 0.0893 - accuracy: 1.0000 - val_loss: 1.3030 - val_accuracy: 0.5370\n",
      "Epoch 107/200\n",
      "7/7 [==============================] - 6s 839ms/step - loss: 0.0866 - accuracy: 1.0000 - val_loss: 1.3043 - val_accuracy: 0.5324\n",
      "Epoch 108/200\n",
      "7/7 [==============================] - 6s 856ms/step - loss: 0.0854 - accuracy: 1.0000 - val_loss: 1.3110 - val_accuracy: 0.5463\n",
      "Epoch 109/200\n",
      "7/7 [==============================] - 6s 860ms/step - loss: 0.0849 - accuracy: 1.0000 - val_loss: 1.3027 - val_accuracy: 0.5370\n",
      "Epoch 110/200\n",
      "7/7 [==============================] - 6s 935ms/step - loss: 0.0798 - accuracy: 1.0000 - val_loss: 1.3122 - val_accuracy: 0.5324\n",
      "Epoch 111/200\n",
      "7/7 [==============================] - 6s 882ms/step - loss: 0.0782 - accuracy: 1.0000 - val_loss: 1.3123 - val_accuracy: 0.5417\n",
      "Epoch 112/200\n",
      "7/7 [==============================] - 6s 885ms/step - loss: 0.0763 - accuracy: 1.0000 - val_loss: 1.3048 - val_accuracy: 0.5370\n",
      "Epoch 113/200\n",
      "7/7 [==============================] - 6s 917ms/step - loss: 0.0729 - accuracy: 1.0000 - val_loss: 1.3151 - val_accuracy: 0.5278\n",
      "Epoch 114/200\n",
      "7/7 [==============================] - 6s 901ms/step - loss: 0.0708 - accuracy: 1.0000 - val_loss: 1.3116 - val_accuracy: 0.5324\n",
      "Epoch 115/200\n",
      "7/7 [==============================] - 6s 875ms/step - loss: 0.0671 - accuracy: 1.0000 - val_loss: 1.3105 - val_accuracy: 0.5417\n",
      "Epoch 116/200\n",
      "7/7 [==============================] - 6s 860ms/step - loss: 0.0683 - accuracy: 1.0000 - val_loss: 1.3151 - val_accuracy: 0.5278\n",
      "Epoch 117/200\n",
      "7/7 [==============================] - 6s 854ms/step - loss: 0.0648 - accuracy: 1.0000 - val_loss: 1.3174 - val_accuracy: 0.5417\n",
      "Epoch 118/200\n",
      "7/7 [==============================] - 6s 816ms/step - loss: 0.0620 - accuracy: 1.0000 - val_loss: 1.3239 - val_accuracy: 0.5370\n",
      "Epoch 119/200\n",
      "7/7 [==============================] - 6s 827ms/step - loss: 0.0603 - accuracy: 1.0000 - val_loss: 1.3202 - val_accuracy: 0.5463\n",
      "Epoch 120/200\n",
      "7/7 [==============================] - 6s 857ms/step - loss: 0.0602 - accuracy: 1.0000 - val_loss: 1.3295 - val_accuracy: 0.5324\n",
      "Epoch 121/200\n",
      "7/7 [==============================] - 7s 943ms/step - loss: 0.0577 - accuracy: 1.0000 - val_loss: 1.3228 - val_accuracy: 0.5417\n",
      "Epoch 122/200\n",
      "7/7 [==============================] - 7s 947ms/step - loss: 0.0545 - accuracy: 1.0000 - val_loss: 1.3211 - val_accuracy: 0.5324\n",
      "Epoch 123/200\n",
      "7/7 [==============================] - 6s 871ms/step - loss: 0.0536 - accuracy: 1.0000 - val_loss: 1.3282 - val_accuracy: 0.5324\n",
      "Epoch 124/200\n",
      "7/7 [==============================] - 6s 865ms/step - loss: 0.0535 - accuracy: 1.0000 - val_loss: 1.3270 - val_accuracy: 0.5417\n",
      "Epoch 125/200\n",
      "7/7 [==============================] - 6s 876ms/step - loss: 0.0495 - accuracy: 1.0000 - val_loss: 1.3283 - val_accuracy: 0.5278\n",
      "Epoch 126/200\n",
      "7/7 [==============================] - 6s 882ms/step - loss: 0.0480 - accuracy: 1.0000 - val_loss: 1.3226 - val_accuracy: 0.5324\n",
      "Epoch 127/200\n",
      "7/7 [==============================] - 6s 891ms/step - loss: 0.0495 - accuracy: 1.0000 - val_loss: 1.3234 - val_accuracy: 0.5417\n",
      "Epoch 128/200\n",
      "7/7 [==============================] - 7s 962ms/step - loss: 0.0463 - accuracy: 1.0000 - val_loss: 1.3298 - val_accuracy: 0.5509\n",
      "Epoch 129/200\n",
      "7/7 [==============================] - 6s 918ms/step - loss: 0.0453 - accuracy: 1.0000 - val_loss: 1.3295 - val_accuracy: 0.5417\n",
      "Epoch 130/200\n",
      "7/7 [==============================] - 6s 867ms/step - loss: 0.0436 - accuracy: 1.0000 - val_loss: 1.3272 - val_accuracy: 0.5370\n",
      "Epoch 131/200\n",
      "7/7 [==============================] - 6s 857ms/step - loss: 0.0432 - accuracy: 1.0000 - val_loss: 1.3225 - val_accuracy: 0.5556\n",
      "Epoch 132/200\n",
      "7/7 [==============================] - 6s 859ms/step - loss: 0.0402 - accuracy: 1.0000 - val_loss: 1.3261 - val_accuracy: 0.5556\n",
      "Epoch 133/200\n",
      "7/7 [==============================] - 6s 825ms/step - loss: 0.0404 - accuracy: 1.0000 - val_loss: 1.3315 - val_accuracy: 0.5417\n",
      "Epoch 134/200\n",
      "7/7 [==============================] - 6s 822ms/step - loss: 0.0423 - accuracy: 1.0000 - val_loss: 1.3348 - val_accuracy: 0.5556\n",
      "Epoch 135/200\n",
      "7/7 [==============================] - 6s 842ms/step - loss: 0.0367 - accuracy: 1.0000 - val_loss: 1.3377 - val_accuracy: 0.5463\n",
      "Epoch 136/200\n",
      "7/7 [==============================] - 6s 846ms/step - loss: 0.0344 - accuracy: 1.0000 - val_loss: 1.3417 - val_accuracy: 0.5602\n",
      "Epoch 137/200\n",
      "7/7 [==============================] - 6s 847ms/step - loss: 0.0344 - accuracy: 1.0000 - val_loss: 1.3388 - val_accuracy: 0.5509\n",
      "Epoch 138/200\n",
      "7/7 [==============================] - 6s 864ms/step - loss: 0.0348 - accuracy: 1.0000 - val_loss: 1.3378 - val_accuracy: 0.5556\n",
      "Epoch 139/200\n",
      "7/7 [==============================] - 6s 857ms/step - loss: 0.0325 - accuracy: 1.0000 - val_loss: 1.3462 - val_accuracy: 0.5509\n",
      "Epoch 140/200\n",
      "7/7 [==============================] - 6s 881ms/step - loss: 0.0323 - accuracy: 1.0000 - val_loss: 1.3371 - val_accuracy: 0.5648\n",
      "Epoch 141/200\n",
      "7/7 [==============================] - 6s 881ms/step - loss: 0.0304 - accuracy: 1.0000 - val_loss: 1.3405 - val_accuracy: 0.5556\n",
      "Epoch 142/200\n",
      "7/7 [==============================] - 6s 914ms/step - loss: 0.0293 - accuracy: 1.0000 - val_loss: 1.3467 - val_accuracy: 0.5694\n",
      "Epoch 143/200\n",
      "7/7 [==============================] - 6s 903ms/step - loss: 0.0301 - accuracy: 1.0000 - val_loss: 1.3429 - val_accuracy: 0.5694\n",
      "Epoch 144/200\n",
      "7/7 [==============================] - 6s 907ms/step - loss: 0.0276 - accuracy: 1.0000 - val_loss: 1.3449 - val_accuracy: 0.5694\n",
      "Epoch 145/200\n",
      "7/7 [==============================] - 6s 856ms/step - loss: 0.0262 - accuracy: 1.0000 - val_loss: 1.3488 - val_accuracy: 0.5648\n",
      "Epoch 146/200\n",
      "7/7 [==============================] - 6s 925ms/step - loss: 0.0302 - accuracy: 1.0000 - val_loss: 1.3583 - val_accuracy: 0.5602\n",
      "Epoch 147/200\n",
      "7/7 [==============================] - 6s 830ms/step - loss: 0.0252 - accuracy: 1.0000 - val_loss: 1.3583 - val_accuracy: 0.5694\n",
      "Epoch 148/200\n",
      "7/7 [==============================] - 6s 826ms/step - loss: 0.0240 - accuracy: 1.0000 - val_loss: 1.3589 - val_accuracy: 0.5694\n",
      "Epoch 149/200\n",
      "7/7 [==============================] - 6s 826ms/step - loss: 0.0242 - accuracy: 1.0000 - val_loss: 1.3576 - val_accuracy: 0.5648\n",
      "Epoch 150/200\n",
      "7/7 [==============================] - 6s 847ms/step - loss: 0.0228 - accuracy: 1.0000 - val_loss: 1.3654 - val_accuracy: 0.5694\n",
      "Epoch 151/200\n",
      "7/7 [==============================] - 6s 856ms/step - loss: 0.0229 - accuracy: 1.0000 - val_loss: 1.3659 - val_accuracy: 0.5694\n",
      "Epoch 152/200\n",
      "7/7 [==============================] - 6s 877ms/step - loss: 0.0223 - accuracy: 1.0000 - val_loss: 1.3731 - val_accuracy: 0.5694\n",
      "Epoch 153/200\n",
      "7/7 [==============================] - 6s 862ms/step - loss: 0.0219 - accuracy: 1.0000 - val_loss: 1.3681 - val_accuracy: 0.5648\n",
      "Epoch 154/200\n",
      "7/7 [==============================] - 6s 879ms/step - loss: 0.0214 - accuracy: 1.0000 - val_loss: 1.3746 - val_accuracy: 0.5648\n",
      "Epoch 155/200\n",
      "7/7 [==============================] - 6s 880ms/step - loss: 0.0196 - accuracy: 1.0000 - val_loss: 1.3716 - val_accuracy: 0.5648\n",
      "Epoch 156/200\n",
      "7/7 [==============================] - 6s 882ms/step - loss: 0.0201 - accuracy: 1.0000 - val_loss: 1.3760 - val_accuracy: 0.5741\n",
      "Epoch 157/200\n",
      "7/7 [==============================] - 6s 886ms/step - loss: 0.0191 - accuracy: 1.0000 - val_loss: 1.3818 - val_accuracy: 0.5648\n",
      "Epoch 158/200\n",
      "7/7 [==============================] - 6s 900ms/step - loss: 0.0174 - accuracy: 1.0000 - val_loss: 1.3717 - val_accuracy: 0.5741\n",
      "Epoch 159/200\n",
      "7/7 [==============================] - 6s 896ms/step - loss: 0.0172 - accuracy: 1.0000 - val_loss: 1.3731 - val_accuracy: 0.5787\n",
      "Epoch 160/200\n",
      "7/7 [==============================] - 6s 865ms/step - loss: 0.0180 - accuracy: 1.0000 - val_loss: 1.3731 - val_accuracy: 0.5741\n",
      "Epoch 161/200\n",
      "7/7 [==============================] - 6s 861ms/step - loss: 0.0161 - accuracy: 1.0000 - val_loss: 1.3824 - val_accuracy: 0.5741\n",
      "Epoch 162/200\n",
      "7/7 [==============================] - 6s 928ms/step - loss: 0.0165 - accuracy: 1.0000 - val_loss: 1.3730 - val_accuracy: 0.5694\n",
      "Epoch 163/200\n",
      "7/7 [==============================] - 6s 872ms/step - loss: 0.0153 - accuracy: 1.0000 - val_loss: 1.3816 - val_accuracy: 0.5648\n",
      "Epoch 164/200\n",
      "7/7 [==============================] - 6s 922ms/step - loss: 0.0144 - accuracy: 1.0000 - val_loss: 1.3824 - val_accuracy: 0.5694\n",
      "Epoch 165/200\n",
      "7/7 [==============================] - 6s 828ms/step - loss: 0.0151 - accuracy: 1.0000 - val_loss: 1.3792 - val_accuracy: 0.5787\n",
      "Epoch 166/200\n",
      "7/7 [==============================] - 6s 832ms/step - loss: 0.0142 - accuracy: 1.0000 - val_loss: 1.3942 - val_accuracy: 0.5833\n",
      "Epoch 167/200\n",
      "7/7 [==============================] - 6s 858ms/step - loss: 0.0134 - accuracy: 1.0000 - val_loss: 1.3910 - val_accuracy: 0.5694\n",
      "Epoch 168/200\n",
      "7/7 [==============================] - 6s 852ms/step - loss: 0.0133 - accuracy: 1.0000 - val_loss: 1.3921 - val_accuracy: 0.5648\n",
      "Epoch 169/200\n",
      "7/7 [==============================] - 6s 889ms/step - loss: 0.0123 - accuracy: 1.0000 - val_loss: 1.3906 - val_accuracy: 0.5648\n",
      "Epoch 170/200\n",
      "7/7 [==============================] - 6s 870ms/step - loss: 0.0120 - accuracy: 1.0000 - val_loss: 1.3921 - val_accuracy: 0.5694\n",
      "Epoch 171/200\n",
      "7/7 [==============================] - 6s 878ms/step - loss: 0.0121 - accuracy: 1.0000 - val_loss: 1.3885 - val_accuracy: 0.5648\n",
      "Epoch 172/200\n",
      "7/7 [==============================] - 7s 953ms/step - loss: 0.0116 - accuracy: 1.0000 - val_loss: 1.4015 - val_accuracy: 0.5648\n",
      "Epoch 173/200\n",
      "7/7 [==============================] - 7s 938ms/step - loss: 0.0111 - accuracy: 1.0000 - val_loss: 1.3938 - val_accuracy: 0.5694\n",
      "Epoch 174/200\n",
      "7/7 [==============================] - 6s 882ms/step - loss: 0.0110 - accuracy: 1.0000 - val_loss: 1.4000 - val_accuracy: 0.5787\n",
      "Epoch 175/200\n",
      "7/7 [==============================] - 6s 840ms/step - loss: 0.0110 - accuracy: 1.0000 - val_loss: 1.3941 - val_accuracy: 0.5741\n",
      "Epoch 176/200\n",
      "7/7 [==============================] - 6s 853ms/step - loss: 0.0111 - accuracy: 1.0000 - val_loss: 1.4021 - val_accuracy: 0.5741\n",
      "Epoch 177/200\n",
      "7/7 [==============================] - 6s 817ms/step - loss: 0.0098 - accuracy: 1.0000 - val_loss: 1.4050 - val_accuracy: 0.5694\n",
      "Epoch 178/200\n",
      "7/7 [==============================] - 6s 885ms/step - loss: 0.0098 - accuracy: 1.0000 - val_loss: 1.4046 - val_accuracy: 0.5694\n",
      "Epoch 179/200\n",
      "7/7 [==============================] - 6s 847ms/step - loss: 0.0090 - accuracy: 1.0000 - val_loss: 1.4029 - val_accuracy: 0.5787\n",
      "Epoch 180/200\n",
      "7/7 [==============================] - 6s 825ms/step - loss: 0.0084 - accuracy: 1.0000 - val_loss: 1.4059 - val_accuracy: 0.5741\n",
      "Epoch 181/200\n",
      "7/7 [==============================] - 6s 869ms/step - loss: 0.0086 - accuracy: 1.0000 - val_loss: 1.4118 - val_accuracy: 0.5694\n",
      "Epoch 182/200\n",
      "7/7 [==============================] - 6s 865ms/step - loss: 0.0085 - accuracy: 1.0000 - val_loss: 1.4179 - val_accuracy: 0.5694\n",
      "Epoch 183/200\n",
      "7/7 [==============================] - 6s 851ms/step - loss: 0.0079 - accuracy: 1.0000 - val_loss: 1.4112 - val_accuracy: 0.5833\n",
      "Epoch 184/200\n",
      "7/7 [==============================] - 6s 853ms/step - loss: 0.0080 - accuracy: 1.0000 - val_loss: 1.4143 - val_accuracy: 0.5833\n",
      "Epoch 185/200\n",
      "7/7 [==============================] - 6s 885ms/step - loss: 0.0079 - accuracy: 1.0000 - val_loss: 1.4249 - val_accuracy: 0.5787\n",
      "Epoch 186/200\n",
      "7/7 [==============================] - 6s 905ms/step - loss: 0.0074 - accuracy: 1.0000 - val_loss: 1.4229 - val_accuracy: 0.5833\n",
      "Epoch 187/200\n",
      "7/7 [==============================] - 8s 1s/step - loss: 0.0071 - accuracy: 1.0000 - val_loss: 1.4192 - val_accuracy: 0.5787\n",
      "Epoch 188/200\n",
      "7/7 [==============================] - 7s 1s/step - loss: 0.0072 - accuracy: 1.0000 - val_loss: 1.4186 - val_accuracy: 0.5787\n",
      "Epoch 189/200\n",
      "7/7 [==============================] - 6s 874ms/step - loss: 0.0064 - accuracy: 1.0000 - val_loss: 1.4450 - val_accuracy: 0.5833\n",
      "Epoch 190/200\n",
      "7/7 [==============================] - 7s 941ms/step - loss: 0.0061 - accuracy: 1.0000 - val_loss: 1.4395 - val_accuracy: 0.5741\n",
      "Epoch 191/200\n",
      "7/7 [==============================] - 6s 886ms/step - loss: 0.0064 - accuracy: 1.0000 - val_loss: 1.4331 - val_accuracy: 0.5787\n",
      "Epoch 192/200\n",
      "7/7 [==============================] - 6s 925ms/step - loss: 0.0061 - accuracy: 1.0000 - val_loss: 1.4398 - val_accuracy: 0.5741\n",
      "Epoch 193/200\n",
      "7/7 [==============================] - 6s 890ms/step - loss: 0.0058 - accuracy: 1.0000 - val_loss: 1.4448 - val_accuracy: 0.5787\n",
      "Epoch 194/200\n",
      "7/7 [==============================] - 7s 951ms/step - loss: 0.0060 - accuracy: 1.0000 - val_loss: 1.4340 - val_accuracy: 0.5833\n",
      "Epoch 195/200\n",
      "7/7 [==============================] - 6s 908ms/step - loss: 0.0057 - accuracy: 1.0000 - val_loss: 1.4320 - val_accuracy: 0.5787\n",
      "Epoch 196/200\n",
      "7/7 [==============================] - 6s 862ms/step - loss: 0.0054 - accuracy: 1.0000 - val_loss: 1.4472 - val_accuracy: 0.5694\n",
      "Epoch 197/200\n",
      "7/7 [==============================] - 6s 849ms/step - loss: 0.0051 - accuracy: 1.0000 - val_loss: 1.4539 - val_accuracy: 0.5741\n",
      "Epoch 198/200\n",
      "7/7 [==============================] - 6s 855ms/step - loss: 0.0047 - accuracy: 1.0000 - val_loss: 1.4531 - val_accuracy: 0.5833\n",
      "Epoch 199/200\n",
      "7/7 [==============================] - 6s 817ms/step - loss: 0.0048 - accuracy: 1.0000 - val_loss: 1.4503 - val_accuracy: 0.5833\n",
      "Epoch 200/200\n",
      "7/7 [==============================] - 6s 838ms/step - loss: 0.0049 - accuracy: 1.0000 - val_loss: 1.4621 - val_accuracy: 0.5880\n"
     ]
    }
   ],
   "source": [
    "cnnhistory = model.fit(X_train, y_train, batch_size=128, epochs=200, validation_data=(X_val, y_val))"
   ],
   "metadata": {
    "collapsed": false
   }
  },
  {
   "cell_type": "markdown",
   "source": [
    "##### 绘制模型的损失函数变化曲线"
   ],
   "metadata": {
    "collapsed": false
   }
  },
  {
   "cell_type": "code",
   "execution_count": 14,
   "outputs": [
    {
     "data": {
      "text/plain": "<Figure size 640x480 with 1 Axes>",
      "image/png": "[encoded data removed]"
     },
     "metadata": {},
     "output_type": "display_data"
    },
    {
     "data": {
      "text/plain": "<Figure size 640x480 with 0 Axes>"
     },
     "metadata": {},
     "output_type": "display_data"
    }
   ],
   "source": [
    "plt.plot(cnnhistory.history['loss'])\n",
    "plt.plot(cnnhistory.history['val_loss'])\n",
    "plt.title('model loss')\n",
    "plt.ylabel('loss')\n",
    "plt.xlabel('epoch')\n",
    "plt.legend(['train', 'val'], loc='upper right')\n",
    "plt.show()\n",
    "plt.savefig(\"images/loss.png\")"
   ],
   "metadata": {
    "collapsed": false
   }
  },
  {
   "cell_type": "markdown",
   "source": [
    "##### 绘制模型准确率变化曲线"
   ],
   "metadata": {
    "collapsed": false
   }
  },
  {
   "cell_type": "code",
   "execution_count": 15,
   "outputs": [
    {
     "data": {
      "text/plain": "<Figure size 640x480 with 1 Axes>",
      "image/png": "[encoded data removed]"
     },
     "metadata": {},
     "output_type": "display_data"
    },
    {
     "data": {
      "text/plain": "<Figure size 640x480 with 0 Axes>"
     },
     "metadata": {},
     "output_type": "display_data"
    }
   ],
   "source": [
    "plt.plot(cnnhistory.history['accuracy'])\n",
    "plt.plot(cnnhistory.history['val_accuracy'])\n",
    "plt.title('model accuracy')\n",
    "plt.ylabel('accuracy')\n",
    "plt.xlabel('epoch')\n",
    "plt.legend(['train', 'val'], loc='upper right')\n",
    "plt.show()\n",
    "plt.savefig(\"images/accuracy.png\")"
   ],
   "metadata": {
    "collapsed": false
   }
  },
  {
   "cell_type": "markdown",
   "source": [
    "##### 保存模型结果"
   ],
   "metadata": {
    "collapsed": false
   }
  },
  {
   "cell_type": "code",
   "execution_count": 16,
   "outputs": [],
   "source": [
    "model_name = 'model_emotion.h5'\n",
    "save_dir = os.path.join(os.getcwd(), 'models')\n",
    "if not os.path.isdir(save_dir):\n",
    "    os.makedirs(save_dir)\n",
    "model_path = os.path.join(save_dir, model_name)\n",
    "model.save(model_path)\n",
    "model_json = model.to_json()\n",
    "with open(\"models/model_emotion.json\", \"w\") as json_file:\n",
    "    json_file.write(model_json)"
   ],
   "metadata": {
    "collapsed": false
   }
  },
  {
   "cell_type": "markdown",
   "source": [
    "##### 加载模型数据用于测试"
   ],
   "metadata": {
    "collapsed": false
   }
  },
  {
   "cell_type": "code",
   "execution_count": 17,
   "outputs": [
    {
     "name": "stdout",
     "output_type": "stream",
     "text": [
      "Loaded model from disk\n",
      "accuracy: 61.67%\n"
     ]
    }
   ],
   "source": [
    "json_file = open('models/model_emotion.json', 'r')\n",
    "loaded_model_json = json_file.read()\n",
    "json_file.close()\n",
    "loaded_model = model_from_json(loaded_model_json)\n",
    "# load weights into new model\n",
    "loaded_model.load_weights(\"models/model_emotion.h5\")\n",
    "print(\"Loaded model from disk\")\n",
    "\n",
    "# evaluate loaded model on test data\n",
    "loaded_model.compile(loss='categorical_crossentropy', optimizer=opt, metrics=['accuracy'])\n",
    "score = loaded_model.evaluate(X_test, y_test, verbose=0)\n",
    "print(\"%s: %.2f%%\" % (loaded_model.metrics_names[1], score[1] * 100))"
   ],
   "metadata": {
    "collapsed": false
   }
  },
  {
   "cell_type": "markdown",
   "source": [
    "##### 获取预测结果和真实结果"
   ],
   "metadata": {
    "collapsed": false
   }
  },
  {
   "cell_type": "code",
   "execution_count": 18,
   "outputs": [
    {
     "name": "stdout",
     "output_type": "stream",
     "text": [
      "4/4 [==============================] - 1s 85ms/step\n"
     ]
    },
    {
     "data": {
      "text/plain": "    predictedvalues\n0               sad\n1               sad\n2          surprise\n3           neutral\n4               sad\n..              ...\n115           angry\n116           happy\n117           angry\n118           happy\n119         neutral\n\n[120 rows x 1 columns]",
      "text/html": "<div>\n<style scoped>\n    .dataframe tbody tr th:only-of-type {\n        vertical-align: middle;\n    }\n\n    .dataframe tbody tr th {\n        vertical-align: top;\n    }\n\n    .dataframe thead th {\n        text-align: right;\n    }\n</style>\n<table border=\"1\" class=\"dataframe\">\n  <thead>\n    <tr style=\"text-align: right;\">\n      <th></th>\n      <th>predictedvalues</th>\n    </tr>\n  </thead>\n  <tbody>\n    <tr>\n      <th>0</th>\n      <td>sad</td>\n    </tr>\n    <tr>\n      <th>1</th>\n      <td>sad</td>\n    </tr>\n    <tr>\n      <th>2</th>\n      <td>surprise</td>\n    </tr>\n    <tr>\n      <th>3</th>\n      <td>neutral</td>\n    </tr>\n    <tr>\n      <th>4</th>\n      <td>sad</td>\n    </tr>\n    <tr>\n      <th>...</th>\n      <td>...</td>\n    </tr>\n    <tr>\n      <th>115</th>\n      <td>angry</td>\n    </tr>\n    <tr>\n      <th>116</th>\n      <td>happy</td>\n    </tr>\n    <tr>\n      <th>117</th>\n      <td>angry</td>\n    </tr>\n    <tr>\n      <th>118</th>\n      <td>happy</td>\n    </tr>\n    <tr>\n      <th>119</th>\n      <td>neutral</td>\n    </tr>\n  </tbody>\n</table>\n<p>120 rows × 1 columns</p>\n</div>"
     },
     "execution_count": 18,
     "metadata": {},
     "output_type": "execute_result"
    }
   ],
   "source": [
    "preds = loaded_model.predict(X_test, batch_size=32, verbose=1)\n",
    "preds = preds.argmax(axis=1)\n",
    "preds = preds.astype(int).flatten()\n",
    "preds = (lb.inverse_transform(preds))\n",
    "preddf = pd.DataFrame({'predictedvalues': preds})\n",
    "preddf"
   ],
   "metadata": {
    "collapsed": false
   }
  },
  {
   "cell_type": "code",
   "execution_count": 19,
   "outputs": [
    {
     "data": {
      "text/plain": "    actualvalues\n0            sad\n1            sad\n2       surprise\n3            sad\n4          angry\n..           ...\n115        angry\n116         fear\n117        angry\n118        happy\n119      neutral\n\n[120 rows x 1 columns]",
      "text/html": "<div>\n<style scoped>\n    .dataframe tbody tr th:only-of-type {\n        vertical-align: middle;\n    }\n\n    .dataframe tbody tr th {\n        vertical-align: top;\n    }\n\n    .dataframe thead th {\n        text-align: right;\n    }\n</style>\n<table border=\"1\" class=\"dataframe\">\n  <thead>\n    <tr style=\"text-align: right;\">\n      <th></th>\n      <th>actualvalues</th>\n    </tr>\n  </thead>\n  <tbody>\n    <tr>\n      <th>0</th>\n      <td>sad</td>\n    </tr>\n    <tr>\n      <th>1</th>\n      <td>sad</td>\n    </tr>\n    <tr>\n      <th>2</th>\n      <td>surprise</td>\n    </tr>\n    <tr>\n      <th>3</th>\n      <td>sad</td>\n    </tr>\n    <tr>\n      <th>4</th>\n      <td>angry</td>\n    </tr>\n    <tr>\n      <th>...</th>\n      <td>...</td>\n    </tr>\n    <tr>\n      <th>115</th>\n      <td>angry</td>\n    </tr>\n    <tr>\n      <th>116</th>\n      <td>fear</td>\n    </tr>\n    <tr>\n      <th>117</th>\n      <td>angry</td>\n    </tr>\n    <tr>\n      <th>118</th>\n      <td>happy</td>\n    </tr>\n    <tr>\n      <th>119</th>\n      <td>neutral</td>\n    </tr>\n  </tbody>\n</table>\n<p>120 rows × 1 columns</p>\n</div>"
     },
     "execution_count": 19,
     "metadata": {},
     "output_type": "execute_result"
    }
   ],
   "source": [
    "actual = y_test.argmax(axis=1)\n",
    "actual = actual.astype(int).flatten()\n",
    "actual = (lb.inverse_transform(actual))\n",
    "actualdf = pd.DataFrame({'actualvalues': actual})\n",
    "actualdf"
   ],
   "metadata": {
    "collapsed": false
   }
  },
  {
   "cell_type": "code",
   "execution_count": 20,
   "outputs": [
    {
     "data": {
      "text/plain": "    actualvalues predictedvalues\n0            sad             sad\n1            sad             sad\n2       surprise        surprise\n3            sad         neutral\n4          angry             sad\n..           ...             ...\n115        angry           angry\n116         fear           happy\n117        angry           angry\n118        happy           happy\n119      neutral         neutral\n\n[120 rows x 2 columns]",
      "text/html": "<div>\n<style scoped>\n    .dataframe tbody tr th:only-of-type {\n        vertical-align: middle;\n    }\n\n    .dataframe tbody tr th {\n        vertical-align: top;\n    }\n\n    .dataframe thead th {\n        text-align: right;\n    }\n</style>\n<table border=\"1\" class=\"dataframe\">\n  <thead>\n    <tr style=\"text-align: right;\">\n      <th></th>\n      <th>actualvalues</th>\n      <th>predictedvalues</th>\n    </tr>\n  </thead>\n  <tbody>\n    <tr>\n      <th>0</th>\n      <td>sad</td>\n      <td>sad</td>\n    </tr>\n    <tr>\n      <th>1</th>\n      <td>sad</td>\n      <td>sad</td>\n    </tr>\n    <tr>\n      <th>2</th>\n      <td>surprise</td>\n      <td>surprise</td>\n    </tr>\n    <tr>\n      <th>3</th>\n      <td>sad</td>\n      <td>neutral</td>\n    </tr>\n    <tr>\n      <th>4</th>\n      <td>angry</td>\n      <td>sad</td>\n    </tr>\n    <tr>\n      <th>...</th>\n      <td>...</td>\n      <td>...</td>\n    </tr>\n    <tr>\n      <th>115</th>\n      <td>angry</td>\n      <td>angry</td>\n    </tr>\n    <tr>\n      <th>116</th>\n      <td>fear</td>\n      <td>happy</td>\n    </tr>\n    <tr>\n      <th>117</th>\n      <td>angry</td>\n      <td>angry</td>\n    </tr>\n    <tr>\n      <th>118</th>\n      <td>happy</td>\n      <td>happy</td>\n    </tr>\n    <tr>\n      <th>119</th>\n      <td>neutral</td>\n      <td>neutral</td>\n    </tr>\n  </tbody>\n</table>\n<p>120 rows × 2 columns</p>\n</div>"
     },
     "execution_count": 20,
     "metadata": {},
     "output_type": "execute_result"
    }
   ],
   "source": [
    "finaldf = actualdf.join(preddf)\n",
    "finaldf"
   ],
   "metadata": {
    "collapsed": false
   }
  },
  {
   "cell_type": "code",
   "execution_count": 21,
   "outputs": [],
   "source": [
    "finaldf.to_csv('result_emotion.csv', index=False)"
   ],
   "metadata": {
    "collapsed": false
   }
  },
  {
   "cell_type": "code",
   "execution_count": 22,
   "outputs": [
    {
     "data": {
      "text/plain": "8807"
     },
     "execution_count": 22,
     "metadata": {},
     "output_type": "execute_result"
    }
   ],
   "source": [
    "gc.collect()"
   ],
   "metadata": {
    "collapsed": false
   }
  }
 ],
 "metadata": {
  "kernelspec": {
   "display_name": "Python 3",
   "language": "python",
   "name": "python3"
  },
  "language_info": {
   "codemirror_mode": {
    "name": "ipython",
    "version": 2
   },
   "file_extension": ".py",
   "mimetype": "text/x-python",
   "name": "python",
   "nbconvert_exporter": "python",
   "pygments_lexer": "ipython2",
   "version": "2.7.6"
  }
 },
 "nbformat": 4,
 "nbformat_minor": 0
}
