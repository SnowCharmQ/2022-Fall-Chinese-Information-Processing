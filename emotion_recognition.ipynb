{
 "cells": [
  {
   "cell_type": "markdown",
   "source": [
    "# 基于神经网络的文本相关声纹识别"
   ],
   "metadata": {
    "collapsed": false
   }
  },
  {
   "cell_type": "code",
   "execution_count": 1,
   "outputs": [],
   "source": [
    "import os\n",
    "import gc\n",
    "import warnings\n",
    "import numpy as np\n",
    "import pandas as pd\n",
    "import librosa.display\n",
    "import matplotlib.pyplot as plt\n",
    "from sklearn.utils import shuffle\n",
    "from sklearn.preprocessing import LabelEncoder\n",
    "from sklearn.model_selection import train_test_split\n",
    "from keras.utils import np_utils\n",
    "from keras.models import Sequential, model_from_json\n",
    "from keras.layers import *\n",
    "from keras import optimizers\n",
    "\n",
    "warnings.filterwarnings('ignore')"
   ],
   "metadata": {
    "collapsed": false
   }
  },
  {
   "cell_type": "markdown",
   "source": [
    "##### 通过路径返回训练音频列表"
   ],
   "metadata": {
    "collapsed": false
   }
  },
  {
   "cell_type": "code",
   "execution_count": 2,
   "outputs": [],
   "source": [
    "# -*- coding: utf-8 -*-\n",
    "def listdir(path: str, list_name: list):\n",
    "    for file in os.listdir(path):\n",
    "        file_path = os.path.join(path, file)\n",
    "        if os.path.isdir(file_path):\n",
    "            listdir(file_path, list_name)\n",
    "        elif os.path.splitext(file_path)[1] == '.wav':\n",
    "            list_name.append(file_path)\n",
    "    return list_name"
   ],
   "metadata": {
    "collapsed": false
   }
  },
  {
   "cell_type": "code",
   "execution_count": 3,
   "outputs": [],
   "source": [
    "list_name = list()\n",
    "list_name = listdir('RawData/CASIA database', list_name)"
   ],
   "metadata": {
    "collapsed": false
   }
  },
  {
   "cell_type": "markdown",
   "source": [
    "##### 情感分类标签"
   ],
   "metadata": {
    "collapsed": false
   }
  },
  {
   "cell_type": "code",
   "execution_count": 4,
   "outputs": [],
   "source": [
    "label_list = list()\n",
    "for i in range(len(list_name)):\n",
    "    name = list_name[i]\n",
    "    if \"angry\" in name:\n",
    "        label_list.append(\"angry\")\n",
    "    elif \"fear\" in name:\n",
    "        label_list.append(\"fear\")\n",
    "    elif \"happy\" in name:\n",
    "        label_list.append(\"happy\")\n",
    "    elif \"neutral\" in name:\n",
    "        label_list.append(\"neutral\")\n",
    "    elif \"sad\" in name:\n",
    "        label_list.append(\"sad\")\n",
    "    elif \"surprise\" in name:\n",
    "        label_list.append(\"surprise\")\n",
    "    else:\n",
    "        label_list.append(\"nothing\")\n",
    "labels = pd.DataFrame(label_list)"
   ],
   "metadata": {
    "collapsed": false
   }
  },
  {
   "cell_type": "markdown",
   "source": [
    "##### 加载音频文件，并通过MFCC算法分析其特性"
   ],
   "metadata": {
    "collapsed": false
   }
  },
  {
   "cell_type": "code",
   "execution_count": 5,
   "outputs": [],
   "source": [
    "df = pd.DataFrame(columns=['feature'])\n",
    "bookmark = 0\n",
    "for index, y in enumerate(list_name):\n",
    "    #音频导入函数\n",
    "    # X : 音频的信号值，类型是ndarray,sample_rate : 采样率\n",
    "    # y 音频路径|sr 采样率（默认22050，但是有重采样的功能）\n",
    "    # duration 获取音频的时长 |offset 音频读取的时间\n",
    "    X, sample_rate = librosa.load(y, res_type='kaiser_fast', duration=2.5, sr=22050 * 2, offset=0.5)\n",
    "    #得到采样率\n",
    "    sample_rate = np.array(sample_rate)\n",
    "    # MFCC提取：\n",
    "    # 并且求取平均值\n",
    "    mfccs = np.mean(librosa.feature.mfcc(y=X, sr=sample_rate, n_mfcc=13), axis=0)\n",
    "    #获取音频特征\n",
    "    feature = mfccs\n",
    "    df.loc[bookmark] = [feature]\n",
    "    bookmark = bookmark + 1"
   ],
   "metadata": {
    "collapsed": false
   }
  },
  {
   "cell_type": "markdown",
   "source": [
    "##### 将分析的数据作为feature和label相关联"
   ],
   "metadata": {
    "collapsed": false
   }
  },
  {
   "cell_type": "code",
   "execution_count": 6,
   "outputs": [
    {
     "data": {
      "text/plain": "            0          1          2          3          4          5    \\\n851   -6.508937  -9.793197 -16.385256 -13.066641  -8.109298  -8.511228   \n735  -17.455046 -16.974424 -17.329624 -17.992680 -20.298107 -21.130716   \n657   -6.705391  -9.596505 -15.160941 -15.453075 -16.096537 -15.935842   \n971  -24.745838 -28.242205 -37.240322 -36.917393 -36.183754 -36.691257   \n128   -5.228240  -9.212255 -21.739147 -22.735643 -24.710480 -23.323679   \n...         ...        ...        ...        ...        ...        ...   \n956   -8.016138  -8.221905 -10.003786 -10.855636 -10.475377  -9.388357   \n90    -0.592518  -2.729388 -12.273861 -15.951568 -13.971008 -14.366334   \n193  -21.616930 -21.640667 -22.563541 -25.090752 -22.519300 -22.450069   \n1069  -9.075784  -8.038444  -8.989592  -8.586917  -8.372378  -8.070036   \n1153 -31.202305 -32.902096 -32.431389 -33.304325 -33.346188 -32.622623   \n\n            6          7          8          9    ...        207        208  \\\n851  -13.251451 -16.794250 -16.832167 -17.578995  ...   0.000000   0.000000   \n735  -21.788603 -19.327547 -17.860067 -15.177332  ...   0.000000   0.000000   \n657  -18.929691 -21.028084 -19.334406 -16.864119  ...   0.000000   0.000000   \n971  -35.789616 -35.787777 -38.005310 -36.646378  ...  -2.311440  -3.408780   \n128  -21.660488 -21.944715 -22.379429 -23.048052  ...   0.000000   0.000000   \n...         ...        ...        ...        ...  ...        ...        ...   \n956   -9.737834 -10.774779 -11.383915 -11.769036  ... -37.467842 -36.902317   \n90   -15.868758 -16.589882 -16.587173 -18.143248  ...   0.000000   0.000000   \n193  -23.910797 -26.672798 -19.973499  -3.240777  ...   0.000000   0.000000   \n1069  -8.925899 -12.184606 -18.962801 -24.949606  ...   0.000000   0.000000   \n1153 -32.750008 -32.958042 -32.619003 -23.494120  ...   0.000000   0.000000   \n\n            209        210        211        212        213        214  \\\n851    0.000000   0.000000   0.000000   0.000000   0.000000   0.000000   \n735    0.000000   0.000000   0.000000   0.000000   0.000000   0.000000   \n657    0.000000   0.000000   0.000000   0.000000   0.000000   0.000000   \n971   -3.296693  -2.669066  -4.113184  -7.435148 -14.330322 -19.845415   \n128    0.000000   0.000000   0.000000   0.000000   0.000000   0.000000   \n...         ...        ...        ...        ...        ...        ...   \n956  -37.735699 -37.706024 -38.355972 -38.447800 -38.365780 -33.502205   \n90     0.000000   0.000000   0.000000   0.000000   0.000000   0.000000   \n193    0.000000   0.000000   0.000000   0.000000   0.000000   0.000000   \n1069   0.000000   0.000000   0.000000   0.000000   0.000000   0.000000   \n1153   0.000000   0.000000   0.000000   0.000000   0.000000   0.000000   \n\n            215       0    \n851    0.000000  surprise  \n735    0.000000     happy  \n657    0.000000      fear  \n971  -19.568520      fear  \n128    0.000000     happy  \n...         ...       ...  \n956  -27.415911      fear  \n90     0.000000      fear  \n193    0.000000   neutral  \n1069   0.000000   neutral  \n1153   0.000000  surprise  \n\n[1200 rows x 217 columns]",
      "text/html": "<div>\n<style scoped>\n    .dataframe tbody tr th:only-of-type {\n        vertical-align: middle;\n    }\n\n    .dataframe tbody tr th {\n        vertical-align: top;\n    }\n\n    .dataframe thead th {\n        text-align: right;\n    }\n</style>\n<table border=\"1\" class=\"dataframe\">\n  <thead>\n    <tr style=\"text-align: right;\">\n      <th></th>\n      <th>0</th>\n      <th>1</th>\n      <th>2</th>\n      <th>3</th>\n      <th>4</th>\n      <th>5</th>\n      <th>6</th>\n      <th>7</th>\n      <th>8</th>\n      <th>9</th>\n      <th>...</th>\n      <th>207</th>\n      <th>208</th>\n      <th>209</th>\n      <th>210</th>\n      <th>211</th>\n      <th>212</th>\n      <th>213</th>\n      <th>214</th>\n      <th>215</th>\n      <th>0</th>\n    </tr>\n  </thead>\n  <tbody>\n    <tr>\n      <th>851</th>\n      <td>-6.508937</td>\n      <td>-9.793197</td>\n      <td>-16.385256</td>\n      <td>-13.066641</td>\n      <td>-8.109298</td>\n      <td>-8.511228</td>\n      <td>-13.251451</td>\n      <td>-16.794250</td>\n      <td>-16.832167</td>\n      <td>-17.578995</td>\n      <td>...</td>\n      <td>0.000000</td>\n      <td>0.000000</td>\n      <td>0.000000</td>\n      <td>0.000000</td>\n      <td>0.000000</td>\n      <td>0.000000</td>\n      <td>0.000000</td>\n      <td>0.000000</td>\n      <td>0.000000</td>\n      <td>surprise</td>\n    </tr>\n    <tr>\n      <th>735</th>\n      <td>-17.455046</td>\n      <td>-16.974424</td>\n      <td>-17.329624</td>\n      <td>-17.992680</td>\n      <td>-20.298107</td>\n      <td>-21.130716</td>\n      <td>-21.788603</td>\n      <td>-19.327547</td>\n      <td>-17.860067</td>\n      <td>-15.177332</td>\n      <td>...</td>\n      <td>0.000000</td>\n      <td>0.000000</td>\n      <td>0.000000</td>\n      <td>0.000000</td>\n      <td>0.000000</td>\n      <td>0.000000</td>\n      <td>0.000000</td>\n      <td>0.000000</td>\n      <td>0.000000</td>\n      <td>happy</td>\n    </tr>\n    <tr>\n      <th>657</th>\n      <td>-6.705391</td>\n      <td>-9.596505</td>\n      <td>-15.160941</td>\n      <td>-15.453075</td>\n      <td>-16.096537</td>\n      <td>-15.935842</td>\n      <td>-18.929691</td>\n      <td>-21.028084</td>\n      <td>-19.334406</td>\n      <td>-16.864119</td>\n      <td>...</td>\n      <td>0.000000</td>\n      <td>0.000000</td>\n      <td>0.000000</td>\n      <td>0.000000</td>\n      <td>0.000000</td>\n      <td>0.000000</td>\n      <td>0.000000</td>\n      <td>0.000000</td>\n      <td>0.000000</td>\n      <td>fear</td>\n    </tr>\n    <tr>\n      <th>971</th>\n      <td>-24.745838</td>\n      <td>-28.242205</td>\n      <td>-37.240322</td>\n      <td>-36.917393</td>\n      <td>-36.183754</td>\n      <td>-36.691257</td>\n      <td>-35.789616</td>\n      <td>-35.787777</td>\n      <td>-38.005310</td>\n      <td>-36.646378</td>\n      <td>...</td>\n      <td>-2.311440</td>\n      <td>-3.408780</td>\n      <td>-3.296693</td>\n      <td>-2.669066</td>\n      <td>-4.113184</td>\n      <td>-7.435148</td>\n      <td>-14.330322</td>\n      <td>-19.845415</td>\n      <td>-19.568520</td>\n      <td>fear</td>\n    </tr>\n    <tr>\n      <th>128</th>\n      <td>-5.228240</td>\n      <td>-9.212255</td>\n      <td>-21.739147</td>\n      <td>-22.735643</td>\n      <td>-24.710480</td>\n      <td>-23.323679</td>\n      <td>-21.660488</td>\n      <td>-21.944715</td>\n      <td>-22.379429</td>\n      <td>-23.048052</td>\n      <td>...</td>\n      <td>0.000000</td>\n      <td>0.000000</td>\n      <td>0.000000</td>\n      <td>0.000000</td>\n      <td>0.000000</td>\n      <td>0.000000</td>\n      <td>0.000000</td>\n      <td>0.000000</td>\n      <td>0.000000</td>\n      <td>happy</td>\n    </tr>\n    <tr>\n      <th>...</th>\n      <td>...</td>\n      <td>...</td>\n      <td>...</td>\n      <td>...</td>\n      <td>...</td>\n      <td>...</td>\n      <td>...</td>\n      <td>...</td>\n      <td>...</td>\n      <td>...</td>\n      <td>...</td>\n      <td>...</td>\n      <td>...</td>\n      <td>...</td>\n      <td>...</td>\n      <td>...</td>\n      <td>...</td>\n      <td>...</td>\n      <td>...</td>\n      <td>...</td>\n      <td>...</td>\n    </tr>\n    <tr>\n      <th>956</th>\n      <td>-8.016138</td>\n      <td>-8.221905</td>\n      <td>-10.003786</td>\n      <td>-10.855636</td>\n      <td>-10.475377</td>\n      <td>-9.388357</td>\n      <td>-9.737834</td>\n      <td>-10.774779</td>\n      <td>-11.383915</td>\n      <td>-11.769036</td>\n      <td>...</td>\n      <td>-37.467842</td>\n      <td>-36.902317</td>\n      <td>-37.735699</td>\n      <td>-37.706024</td>\n      <td>-38.355972</td>\n      <td>-38.447800</td>\n      <td>-38.365780</td>\n      <td>-33.502205</td>\n      <td>-27.415911</td>\n      <td>fear</td>\n    </tr>\n    <tr>\n      <th>90</th>\n      <td>-0.592518</td>\n      <td>-2.729388</td>\n      <td>-12.273861</td>\n      <td>-15.951568</td>\n      <td>-13.971008</td>\n      <td>-14.366334</td>\n      <td>-15.868758</td>\n      <td>-16.589882</td>\n      <td>-16.587173</td>\n      <td>-18.143248</td>\n      <td>...</td>\n      <td>0.000000</td>\n      <td>0.000000</td>\n      <td>0.000000</td>\n      <td>0.000000</td>\n      <td>0.000000</td>\n      <td>0.000000</td>\n      <td>0.000000</td>\n      <td>0.000000</td>\n      <td>0.000000</td>\n      <td>fear</td>\n    </tr>\n    <tr>\n      <th>193</th>\n      <td>-21.616930</td>\n      <td>-21.640667</td>\n      <td>-22.563541</td>\n      <td>-25.090752</td>\n      <td>-22.519300</td>\n      <td>-22.450069</td>\n      <td>-23.910797</td>\n      <td>-26.672798</td>\n      <td>-19.973499</td>\n      <td>-3.240777</td>\n      <td>...</td>\n      <td>0.000000</td>\n      <td>0.000000</td>\n      <td>0.000000</td>\n      <td>0.000000</td>\n      <td>0.000000</td>\n      <td>0.000000</td>\n      <td>0.000000</td>\n      <td>0.000000</td>\n      <td>0.000000</td>\n      <td>neutral</td>\n    </tr>\n    <tr>\n      <th>1069</th>\n      <td>-9.075784</td>\n      <td>-8.038444</td>\n      <td>-8.989592</td>\n      <td>-8.586917</td>\n      <td>-8.372378</td>\n      <td>-8.070036</td>\n      <td>-8.925899</td>\n      <td>-12.184606</td>\n      <td>-18.962801</td>\n      <td>-24.949606</td>\n      <td>...</td>\n      <td>0.000000</td>\n      <td>0.000000</td>\n      <td>0.000000</td>\n      <td>0.000000</td>\n      <td>0.000000</td>\n      <td>0.000000</td>\n      <td>0.000000</td>\n      <td>0.000000</td>\n      <td>0.000000</td>\n      <td>neutral</td>\n    </tr>\n    <tr>\n      <th>1153</th>\n      <td>-31.202305</td>\n      <td>-32.902096</td>\n      <td>-32.431389</td>\n      <td>-33.304325</td>\n      <td>-33.346188</td>\n      <td>-32.622623</td>\n      <td>-32.750008</td>\n      <td>-32.958042</td>\n      <td>-32.619003</td>\n      <td>-23.494120</td>\n      <td>...</td>\n      <td>0.000000</td>\n      <td>0.000000</td>\n      <td>0.000000</td>\n      <td>0.000000</td>\n      <td>0.000000</td>\n      <td>0.000000</td>\n      <td>0.000000</td>\n      <td>0.000000</td>\n      <td>0.000000</td>\n      <td>surprise</td>\n    </tr>\n  </tbody>\n</table>\n<p>1200 rows × 217 columns</p>\n</div>"
     },
     "execution_count": 6,
     "metadata": {},
     "output_type": "execute_result"
    }
   ],
   "source": [
    "df = pd.DataFrame(df['feature'].values.tolist())\n",
    "newdf = pd.concat([df, labels], axis=1)\n",
    "rnewdf = shuffle(newdf)\n",
    "rnewdf = rnewdf.fillna(0)\n",
    "rnewdf"
   ],
   "metadata": {
    "collapsed": false
   }
  },
  {
   "cell_type": "code",
   "execution_count": 7,
   "outputs": [],
   "source": [
    "features = rnewdf.iloc[:, :-1]\n",
    "labels = rnewdf.iloc[:, -1:]"
   ],
   "metadata": {
    "collapsed": false
   }
  },
  {
   "cell_type": "markdown",
   "source": [
    "##### 将数据集分为训练集、验证集和测试集"
   ],
   "metadata": {
    "collapsed": false
   }
  },
  {
   "cell_type": "code",
   "execution_count": 8,
   "outputs": [],
   "source": [
    "X_train_val, X_test, y_train_val, y_test = train_test_split(features, labels, test_size=0.1, shuffle=True)\n",
    "X_train, X_val, y_train, y_val = train_test_split(X_train_val, y_train_val, test_size=0.2, shuffle=True)"
   ],
   "metadata": {
    "collapsed": false
   }
  },
  {
   "cell_type": "markdown",
   "source": [
    "##### 训练与测试音频数：864个训练音频，216个验证音频，120个测试音频"
   ],
   "metadata": {
    "collapsed": false
   }
  },
  {
   "cell_type": "code",
   "execution_count": 9,
   "outputs": [
    {
     "name": "stdout",
     "output_type": "stream",
     "text": [
      "(864, 216)\n",
      "(216, 216)\n",
      "(120, 216)\n",
      "(864, 1)\n",
      "(216, 1)\n",
      "(120, 1)\n"
     ]
    }
   ],
   "source": [
    "print(X_train.shape)\n",
    "print(X_val.shape)\n",
    "print(X_test.shape)\n",
    "print(y_train.shape)\n",
    "print(y_val.shape)\n",
    "print(y_test.shape)"
   ],
   "metadata": {
    "collapsed": false
   }
  },
  {
   "cell_type": "markdown",
   "source": [
    "##### 转换成numpy数组或矩阵"
   ],
   "metadata": {
    "collapsed": false
   }
  },
  {
   "cell_type": "code",
   "execution_count": 10,
   "outputs": [],
   "source": [
    "lb = LabelEncoder()\n",
    "\n",
    "X_train = np.expand_dims(X_train, axis=2)\n",
    "X_val = np.expand_dims(X_val, axis=2)\n",
    "X_test = np.expand_dims(X_test, axis=2)\n",
    "y_train = np_utils.to_categorical(lb.fit_transform(y_train))\n",
    "y_val = np_utils.to_categorical(lb.fit_transform(y_val))\n",
    "y_test = np_utils.to_categorical(lb.fit_transform(y_test))"
   ],
   "metadata": {
    "collapsed": false
   }
  },
  {
   "cell_type": "markdown",
   "source": [
    "##### 构造训练模型"
   ],
   "metadata": {
    "collapsed": false
   }
  },
  {
   "cell_type": "code",
   "execution_count": 11,
   "outputs": [
    {
     "name": "stdout",
     "output_type": "stream",
     "text": [
      "Model: \"sequential\"\n",
      "_________________________________________________________________\n",
      " Layer (type)                Output Shape              Param #   \n",
      "=================================================================\n",
      " conv1d (Conv1D)             (None, 216, 256)          1536      \n",
      "                                                                 \n",
      " batch_normalization (BatchN  (None, 216, 256)         1024      \n",
      " ormalization)                                                   \n",
      "                                                                 \n",
      " activation (Activation)     (None, 216, 256)          0         \n",
      "                                                                 \n",
      " conv1d_1 (Conv1D)           (None, 216, 128)          163968    \n",
      "                                                                 \n",
      " batch_normalization_1 (Batc  (None, 216, 128)         512       \n",
      " hNormalization)                                                 \n",
      "                                                                 \n",
      " activation_1 (Activation)   (None, 216, 128)          0         \n",
      "                                                                 \n",
      " conv1d_2 (Conv1D)           (None, 216, 128)          82048     \n",
      "                                                                 \n",
      " batch_normalization_2 (Batc  (None, 216, 128)         512       \n",
      " hNormalization)                                                 \n",
      "                                                                 \n",
      " activation_2 (Activation)   (None, 216, 128)          0         \n",
      "                                                                 \n",
      " conv1d_3 (Conv1D)           (None, 216, 128)          82048     \n",
      "                                                                 \n",
      " batch_normalization_3 (Batc  (None, 216, 128)         512       \n",
      " hNormalization)                                                 \n",
      "                                                                 \n",
      " activation_3 (Activation)   (None, 216, 128)          0         \n",
      "                                                                 \n",
      " conv1d_4 (Conv1D)           (None, 216, 128)          82048     \n",
      "                                                                 \n",
      " batch_normalization_4 (Batc  (None, 216, 128)         512       \n",
      " hNormalization)                                                 \n",
      "                                                                 \n",
      " activation_4 (Activation)   (None, 216, 128)          0         \n",
      "                                                                 \n",
      " flatten (Flatten)           (None, 27648)             0         \n",
      "                                                                 \n",
      " dense (Dense)               (None, 6)                 165894    \n",
      "                                                                 \n",
      " activation_5 (Activation)   (None, 6)                 0         \n",
      "                                                                 \n",
      "=================================================================\n",
      "Total params: 580,614\n",
      "Trainable params: 579,078\n",
      "Non-trainable params: 1,536\n",
      "_________________________________________________________________\n"
     ]
    }
   ],
   "source": [
    "model = Sequential()\n",
    "\n",
    "model.add(Conv1D(256, 5, padding='same', input_shape=(216, 1)))\n",
    "model.add(BatchNormalizationV1())\n",
    "model.add(Activation('relu'))\n",
    "model.add(Conv1D(128, 5, padding='same'))\n",
    "model.add(BatchNormalizationV1())\n",
    "model.add(Activation('relu'))\n",
    "model.add(Conv1D(128, 5, padding='same', ))\n",
    "model.add(BatchNormalizationV1())\n",
    "model.add(Activation('relu'))\n",
    "model.add(Conv1D(128, 5, padding='same', ))\n",
    "model.add(BatchNormalizationV1())\n",
    "model.add(Activation('relu'))\n",
    "model.add(Conv1D(128, 5, padding='same', ))\n",
    "model.add(BatchNormalizationV1())\n",
    "model.add(Activation('relu'))\n",
    "model.add(Flatten())\n",
    "model.add(Dense(6))\n",
    "model.add(Activation('softmax'))\n",
    "model.summary()\n",
    "opt = optimizers.RMSprop(learning_rate=0.00001, decay=1e-6)"
   ],
   "metadata": {
    "collapsed": false
   }
  },
  {
   "cell_type": "code",
   "execution_count": 12,
   "outputs": [],
   "source": [
    "model.compile(loss='categorical_crossentropy', optimizer=opt, metrics=['accuracy'])"
   ],
   "metadata": {
    "collapsed": false
   }
  },
  {
   "cell_type": "markdown",
   "source": [
    "##### 模型训练"
   ],
   "metadata": {
    "collapsed": false
   }
  },
  {
   "cell_type": "code",
   "execution_count": 13,
   "outputs": [
    {
     "name": "stdout",
     "output_type": "stream",
     "text": [
      "Epoch 1/200\n",
      "7/7 [==============================] - 7s 738ms/step - loss: 1.9956 - accuracy: 0.1944 - val_loss: 1.7989 - val_accuracy: 0.1574\n",
      "Epoch 2/200\n",
      "7/7 [==============================] - 5s 740ms/step - loss: 1.8045 - accuracy: 0.2697 - val_loss: 1.7918 - val_accuracy: 0.1528\n",
      "Epoch 3/200\n",
      "7/7 [==============================] - 5s 706ms/step - loss: 1.6967 - accuracy: 0.3194 - val_loss: 1.7873 - val_accuracy: 0.1759\n",
      "Epoch 4/200\n",
      "7/7 [==============================] - 5s 700ms/step - loss: 1.6109 - accuracy: 0.3484 - val_loss: 1.7830 - val_accuracy: 0.1898\n",
      "Epoch 5/200\n",
      "7/7 [==============================] - 5s 745ms/step - loss: 1.5349 - accuracy: 0.3877 - val_loss: 1.7782 - val_accuracy: 0.2083\n",
      "Epoch 6/200\n",
      "7/7 [==============================] - 5s 749ms/step - loss: 1.4776 - accuracy: 0.4201 - val_loss: 1.7748 - val_accuracy: 0.2315\n",
      "Epoch 7/200\n",
      "7/7 [==============================] - 5s 741ms/step - loss: 1.4145 - accuracy: 0.4630 - val_loss: 1.7710 - val_accuracy: 0.2315\n",
      "Epoch 8/200\n",
      "7/7 [==============================] - 5s 732ms/step - loss: 1.3640 - accuracy: 0.4919 - val_loss: 1.7674 - val_accuracy: 0.2315\n",
      "Epoch 9/200\n",
      "7/7 [==============================] - 5s 735ms/step - loss: 1.3097 - accuracy: 0.5231 - val_loss: 1.7635 - val_accuracy: 0.2176\n",
      "Epoch 10/200\n",
      "7/7 [==============================] - 5s 751ms/step - loss: 1.2660 - accuracy: 0.5463 - val_loss: 1.7593 - val_accuracy: 0.2315\n",
      "Epoch 11/200\n",
      "7/7 [==============================] - 5s 737ms/step - loss: 1.2142 - accuracy: 0.5729 - val_loss: 1.7572 - val_accuracy: 0.2361\n",
      "Epoch 12/200\n",
      "7/7 [==============================] - 5s 728ms/step - loss: 1.1794 - accuracy: 0.5972 - val_loss: 1.7513 - val_accuracy: 0.2593\n",
      "Epoch 13/200\n",
      "7/7 [==============================] - 5s 701ms/step - loss: 1.1409 - accuracy: 0.6192 - val_loss: 1.7421 - val_accuracy: 0.2639\n",
      "Epoch 14/200\n",
      "7/7 [==============================] - 5s 695ms/step - loss: 1.1063 - accuracy: 0.6354 - val_loss: 1.7347 - val_accuracy: 0.2731\n",
      "Epoch 15/200\n",
      "7/7 [==============================] - 5s 704ms/step - loss: 1.0647 - accuracy: 0.6609 - val_loss: 1.7275 - val_accuracy: 0.2870\n",
      "Epoch 16/200\n",
      "7/7 [==============================] - 5s 705ms/step - loss: 1.0339 - accuracy: 0.6759 - val_loss: 1.7210 - val_accuracy: 0.2778\n",
      "Epoch 17/200\n",
      "7/7 [==============================] - 5s 703ms/step - loss: 0.9995 - accuracy: 0.6979 - val_loss: 1.7108 - val_accuracy: 0.2963\n",
      "Epoch 18/200\n",
      "7/7 [==============================] - 5s 701ms/step - loss: 0.9680 - accuracy: 0.7188 - val_loss: 1.7036 - val_accuracy: 0.3102\n",
      "Epoch 19/200\n",
      "7/7 [==============================] - 5s 764ms/step - loss: 0.9385 - accuracy: 0.7280 - val_loss: 1.6939 - val_accuracy: 0.3287\n",
      "Epoch 20/200\n",
      "7/7 [==============================] - 5s 733ms/step - loss: 0.9133 - accuracy: 0.7361 - val_loss: 1.6876 - val_accuracy: 0.3333\n",
      "Epoch 21/200\n",
      "7/7 [==============================] - 5s 720ms/step - loss: 0.8803 - accuracy: 0.7512 - val_loss: 1.6808 - val_accuracy: 0.3287\n",
      "Epoch 22/200\n",
      "7/7 [==============================] - 5s 721ms/step - loss: 0.8609 - accuracy: 0.7685 - val_loss: 1.6713 - val_accuracy: 0.3333\n",
      "Epoch 23/200\n",
      "7/7 [==============================] - 5s 727ms/step - loss: 0.8345 - accuracy: 0.7859 - val_loss: 1.6610 - val_accuracy: 0.3380\n",
      "Epoch 24/200\n",
      "7/7 [==============================] - 5s 739ms/step - loss: 0.8046 - accuracy: 0.8021 - val_loss: 1.6535 - val_accuracy: 0.3426\n",
      "Epoch 25/200\n",
      "7/7 [==============================] - 5s 733ms/step - loss: 0.7906 - accuracy: 0.7998 - val_loss: 1.6445 - val_accuracy: 0.3472\n",
      "Epoch 26/200\n",
      "7/7 [==============================] - 5s 749ms/step - loss: 0.7654 - accuracy: 0.8160 - val_loss: 1.6350 - val_accuracy: 0.3565\n",
      "Epoch 27/200\n",
      "7/7 [==============================] - 5s 739ms/step - loss: 0.7425 - accuracy: 0.8333 - val_loss: 1.6190 - val_accuracy: 0.3704\n",
      "Epoch 28/200\n",
      "7/7 [==============================] - 5s 760ms/step - loss: 0.7177 - accuracy: 0.8356 - val_loss: 1.6154 - val_accuracy: 0.3657\n",
      "Epoch 29/200\n",
      "7/7 [==============================] - 5s 752ms/step - loss: 0.7052 - accuracy: 0.8438 - val_loss: 1.6051 - val_accuracy: 0.3935\n",
      "Epoch 30/200\n",
      "7/7 [==============================] - 5s 759ms/step - loss: 0.6822 - accuracy: 0.8542 - val_loss: 1.5848 - val_accuracy: 0.3796\n",
      "Epoch 31/200\n",
      "7/7 [==============================] - 5s 757ms/step - loss: 0.6615 - accuracy: 0.8657 - val_loss: 1.5789 - val_accuracy: 0.3889\n",
      "Epoch 32/200\n",
      "7/7 [==============================] - 5s 748ms/step - loss: 0.6448 - accuracy: 0.8669 - val_loss: 1.5657 - val_accuracy: 0.3889\n",
      "Epoch 33/200\n",
      "7/7 [==============================] - 5s 764ms/step - loss: 0.6265 - accuracy: 0.8773 - val_loss: 1.5502 - val_accuracy: 0.4074\n",
      "Epoch 34/200\n",
      "7/7 [==============================] - 5s 763ms/step - loss: 0.6151 - accuracy: 0.8785 - val_loss: 1.5502 - val_accuracy: 0.4028\n",
      "Epoch 35/200\n",
      "7/7 [==============================] - 5s 789ms/step - loss: 0.5939 - accuracy: 0.8831 - val_loss: 1.5337 - val_accuracy: 0.4028\n",
      "Epoch 36/200\n",
      "7/7 [==============================] - 6s 796ms/step - loss: 0.5808 - accuracy: 0.8947 - val_loss: 1.5230 - val_accuracy: 0.4028\n",
      "Epoch 37/200\n",
      "7/7 [==============================] - 5s 775ms/step - loss: 0.5663 - accuracy: 0.9005 - val_loss: 1.5123 - val_accuracy: 0.4028\n",
      "Epoch 38/200\n",
      "7/7 [==============================] - 5s 780ms/step - loss: 0.5586 - accuracy: 0.8958 - val_loss: 1.5012 - val_accuracy: 0.4120\n",
      "Epoch 39/200\n",
      "7/7 [==============================] - 6s 793ms/step - loss: 0.5316 - accuracy: 0.9086 - val_loss: 1.4864 - val_accuracy: 0.4259\n",
      "Epoch 40/200\n",
      "7/7 [==============================] - 6s 848ms/step - loss: 0.5254 - accuracy: 0.9051 - val_loss: 1.4733 - val_accuracy: 0.4352\n",
      "Epoch 41/200\n",
      "7/7 [==============================] - 6s 809ms/step - loss: 0.5089 - accuracy: 0.9144 - val_loss: 1.4559 - val_accuracy: 0.4444\n",
      "Epoch 42/200\n",
      "7/7 [==============================] - 6s 813ms/step - loss: 0.4932 - accuracy: 0.9213 - val_loss: 1.4481 - val_accuracy: 0.4537\n",
      "Epoch 43/200\n",
      "7/7 [==============================] - 6s 812ms/step - loss: 0.4868 - accuracy: 0.9201 - val_loss: 1.4351 - val_accuracy: 0.4537\n",
      "Epoch 44/200\n",
      "7/7 [==============================] - 6s 856ms/step - loss: 0.4690 - accuracy: 0.9317 - val_loss: 1.4293 - val_accuracy: 0.4537\n",
      "Epoch 45/200\n",
      "7/7 [==============================] - 6s 839ms/step - loss: 0.4576 - accuracy: 0.9363 - val_loss: 1.4309 - val_accuracy: 0.4722\n",
      "Epoch 46/200\n",
      "7/7 [==============================] - 6s 869ms/step - loss: 0.4434 - accuracy: 0.9375 - val_loss: 1.4034 - val_accuracy: 0.4583\n",
      "Epoch 47/200\n",
      "7/7 [==============================] - 6s 875ms/step - loss: 0.4309 - accuracy: 0.9456 - val_loss: 1.4081 - val_accuracy: 0.4583\n",
      "Epoch 48/200\n",
      "7/7 [==============================] - 6s 843ms/step - loss: 0.4214 - accuracy: 0.9502 - val_loss: 1.4076 - val_accuracy: 0.4630\n",
      "Epoch 49/200\n",
      "7/7 [==============================] - 6s 840ms/step - loss: 0.4092 - accuracy: 0.9514 - val_loss: 1.3883 - val_accuracy: 0.4769\n",
      "Epoch 50/200\n",
      "7/7 [==============================] - 6s 800ms/step - loss: 0.4014 - accuracy: 0.9537 - val_loss: 1.3805 - val_accuracy: 0.4676\n",
      "Epoch 51/200\n",
      "7/7 [==============================] - 6s 808ms/step - loss: 0.3949 - accuracy: 0.9572 - val_loss: 1.3759 - val_accuracy: 0.4815\n",
      "Epoch 52/200\n",
      "7/7 [==============================] - 6s 832ms/step - loss: 0.3782 - accuracy: 0.9606 - val_loss: 1.3685 - val_accuracy: 0.4676\n",
      "Epoch 53/200\n",
      "7/7 [==============================] - 6s 841ms/step - loss: 0.3723 - accuracy: 0.9583 - val_loss: 1.3585 - val_accuracy: 0.4722\n",
      "Epoch 54/200\n",
      "7/7 [==============================] - 6s 850ms/step - loss: 0.3611 - accuracy: 0.9560 - val_loss: 1.3594 - val_accuracy: 0.4815\n",
      "Epoch 55/200\n",
      "7/7 [==============================] - 6s 850ms/step - loss: 0.3492 - accuracy: 0.9688 - val_loss: 1.3506 - val_accuracy: 0.4861\n",
      "Epoch 56/200\n",
      "7/7 [==============================] - 6s 894ms/step - loss: 0.3478 - accuracy: 0.9688 - val_loss: 1.3397 - val_accuracy: 0.4907\n",
      "Epoch 57/200\n",
      "7/7 [==============================] - 6s 825ms/step - loss: 0.3292 - accuracy: 0.9734 - val_loss: 1.3423 - val_accuracy: 0.5000\n",
      "Epoch 58/200\n",
      "7/7 [==============================] - 6s 800ms/step - loss: 0.3217 - accuracy: 0.9699 - val_loss: 1.3509 - val_accuracy: 0.4907\n",
      "Epoch 59/200\n",
      "7/7 [==============================] - 6s 803ms/step - loss: 0.3155 - accuracy: 0.9734 - val_loss: 1.3305 - val_accuracy: 0.5046\n",
      "Epoch 60/200\n",
      "7/7 [==============================] - 5s 769ms/step - loss: 0.3041 - accuracy: 0.9745 - val_loss: 1.3245 - val_accuracy: 0.5000\n",
      "Epoch 61/200\n",
      "7/7 [==============================] - 5s 793ms/step - loss: 0.2940 - accuracy: 0.9792 - val_loss: 1.3243 - val_accuracy: 0.5093\n",
      "Epoch 62/200\n",
      "7/7 [==============================] - 6s 798ms/step - loss: 0.2885 - accuracy: 0.9803 - val_loss: 1.3268 - val_accuracy: 0.5046\n",
      "Epoch 63/200\n",
      "7/7 [==============================] - 6s 816ms/step - loss: 0.2774 - accuracy: 0.9780 - val_loss: 1.3219 - val_accuracy: 0.5046\n",
      "Epoch 64/200\n",
      "7/7 [==============================] - 6s 803ms/step - loss: 0.2745 - accuracy: 0.9838 - val_loss: 1.3254 - val_accuracy: 0.5046\n",
      "Epoch 65/200\n",
      "7/7 [==============================] - 6s 798ms/step - loss: 0.2655 - accuracy: 0.9850 - val_loss: 1.3141 - val_accuracy: 0.5000\n",
      "Epoch 66/200\n",
      "7/7 [==============================] - 6s 813ms/step - loss: 0.2554 - accuracy: 0.9907 - val_loss: 1.3169 - val_accuracy: 0.5093\n",
      "Epoch 67/200\n",
      "7/7 [==============================] - 6s 840ms/step - loss: 0.2550 - accuracy: 0.9896 - val_loss: 1.3069 - val_accuracy: 0.5046\n",
      "Epoch 68/200\n",
      "7/7 [==============================] - 6s 831ms/step - loss: 0.2438 - accuracy: 0.9931 - val_loss: 1.3128 - val_accuracy: 0.5093\n",
      "Epoch 69/200\n",
      "7/7 [==============================] - 6s 821ms/step - loss: 0.2420 - accuracy: 0.9931 - val_loss: 1.3108 - val_accuracy: 0.5231\n",
      "Epoch 70/200\n",
      "7/7 [==============================] - 6s 838ms/step - loss: 0.2275 - accuracy: 0.9942 - val_loss: 1.3048 - val_accuracy: 0.5231\n",
      "Epoch 71/200\n",
      "7/7 [==============================] - 6s 846ms/step - loss: 0.2218 - accuracy: 0.9942 - val_loss: 1.3022 - val_accuracy: 0.5324\n",
      "Epoch 72/200\n",
      "7/7 [==============================] - 6s 848ms/step - loss: 0.2185 - accuracy: 0.9942 - val_loss: 1.3001 - val_accuracy: 0.5231\n",
      "Epoch 73/200\n",
      "7/7 [==============================] - 6s 815ms/step - loss: 0.2148 - accuracy: 0.9954 - val_loss: 1.3107 - val_accuracy: 0.5231\n",
      "Epoch 74/200\n",
      "7/7 [==============================] - 6s 810ms/step - loss: 0.2062 - accuracy: 0.9965 - val_loss: 1.3096 - val_accuracy: 0.5231\n",
      "Epoch 75/200\n",
      "7/7 [==============================] - 6s 814ms/step - loss: 0.2028 - accuracy: 0.9954 - val_loss: 1.3096 - val_accuracy: 0.5231\n",
      "Epoch 76/200\n",
      "7/7 [==============================] - 6s 826ms/step - loss: 0.1927 - accuracy: 0.9977 - val_loss: 1.3003 - val_accuracy: 0.5370\n",
      "Epoch 77/200\n",
      "7/7 [==============================] - 6s 870ms/step - loss: 0.1882 - accuracy: 0.9977 - val_loss: 1.3017 - val_accuracy: 0.5370\n",
      "Epoch 78/200\n",
      "7/7 [==============================] - 6s 803ms/step - loss: 0.1873 - accuracy: 0.9977 - val_loss: 1.2965 - val_accuracy: 0.5370\n",
      "Epoch 79/200\n",
      "7/7 [==============================] - 6s 791ms/step - loss: 0.1785 - accuracy: 0.9977 - val_loss: 1.2916 - val_accuracy: 0.5370\n",
      "Epoch 80/200\n",
      "7/7 [==============================] - 6s 795ms/step - loss: 0.1738 - accuracy: 0.9988 - val_loss: 1.2893 - val_accuracy: 0.5278\n",
      "Epoch 81/200\n",
      "7/7 [==============================] - 6s 810ms/step - loss: 0.1698 - accuracy: 0.9977 - val_loss: 1.2936 - val_accuracy: 0.5370\n",
      "Epoch 82/200\n",
      "7/7 [==============================] - 6s 815ms/step - loss: 0.1659 - accuracy: 0.9988 - val_loss: 1.3101 - val_accuracy: 0.5370\n",
      "Epoch 83/200\n",
      "7/7 [==============================] - 6s 813ms/step - loss: 0.1588 - accuracy: 0.9988 - val_loss: 1.3021 - val_accuracy: 0.5324\n",
      "Epoch 84/200\n",
      "7/7 [==============================] - 6s 869ms/step - loss: 0.1592 - accuracy: 0.9977 - val_loss: 1.2939 - val_accuracy: 0.5370\n",
      "Epoch 85/200\n",
      "7/7 [==============================] - 6s 829ms/step - loss: 0.1507 - accuracy: 0.9988 - val_loss: 1.3026 - val_accuracy: 0.5278\n",
      "Epoch 86/200\n",
      "7/7 [==============================] - 6s 842ms/step - loss: 0.1457 - accuracy: 0.9977 - val_loss: 1.2989 - val_accuracy: 0.5463\n",
      "Epoch 87/200\n",
      "7/7 [==============================] - 6s 891ms/step - loss: 0.1458 - accuracy: 0.9988 - val_loss: 1.2938 - val_accuracy: 0.5556\n",
      "Epoch 88/200\n",
      "7/7 [==============================] - 6s 841ms/step - loss: 0.1359 - accuracy: 1.0000 - val_loss: 1.3067 - val_accuracy: 0.5370\n",
      "Epoch 89/200\n",
      "7/7 [==============================] - 6s 809ms/step - loss: 0.1342 - accuracy: 1.0000 - val_loss: 1.2978 - val_accuracy: 0.5417\n",
      "Epoch 90/200\n",
      "7/7 [==============================] - 6s 805ms/step - loss: 0.1302 - accuracy: 1.0000 - val_loss: 1.3130 - val_accuracy: 0.5370\n",
      "Epoch 91/200\n",
      "7/7 [==============================] - 6s 824ms/step - loss: 0.1265 - accuracy: 1.0000 - val_loss: 1.3057 - val_accuracy: 0.5278\n",
      "Epoch 92/200\n",
      "7/7 [==============================] - 6s 822ms/step - loss: 0.1255 - accuracy: 1.0000 - val_loss: 1.3051 - val_accuracy: 0.5370\n",
      "Epoch 93/200\n",
      "7/7 [==============================] - 6s 834ms/step - loss: 0.1198 - accuracy: 1.0000 - val_loss: 1.2984 - val_accuracy: 0.5370\n",
      "Epoch 94/200\n",
      "7/7 [==============================] - 6s 848ms/step - loss: 0.1146 - accuracy: 1.0000 - val_loss: 1.3063 - val_accuracy: 0.5324\n",
      "Epoch 95/200\n",
      "7/7 [==============================] - 6s 846ms/step - loss: 0.1111 - accuracy: 1.0000 - val_loss: 1.3096 - val_accuracy: 0.5370\n",
      "Epoch 96/200\n",
      "7/7 [==============================] - 6s 858ms/step - loss: 0.1105 - accuracy: 1.0000 - val_loss: 1.3069 - val_accuracy: 0.5417\n",
      "Epoch 97/200\n",
      "7/7 [==============================] - 6s 874ms/step - loss: 0.1056 - accuracy: 1.0000 - val_loss: 1.3071 - val_accuracy: 0.5370\n",
      "Epoch 98/200\n",
      "7/7 [==============================] - 6s 885ms/step - loss: 0.1053 - accuracy: 1.0000 - val_loss: 1.3057 - val_accuracy: 0.5417\n",
      "Epoch 99/200\n",
      "7/7 [==============================] - 6s 811ms/step - loss: 0.1019 - accuracy: 1.0000 - val_loss: 1.3086 - val_accuracy: 0.5324\n",
      "Epoch 100/200\n",
      "7/7 [==============================] - 6s 806ms/step - loss: 0.0983 - accuracy: 1.0000 - val_loss: 1.3116 - val_accuracy: 0.5463\n",
      "Epoch 101/200\n",
      "7/7 [==============================] - 6s 815ms/step - loss: 0.0980 - accuracy: 1.0000 - val_loss: 1.3063 - val_accuracy: 0.5509\n",
      "Epoch 102/200\n",
      "7/7 [==============================] - 6s 843ms/step - loss: 0.0917 - accuracy: 1.0000 - val_loss: 1.3056 - val_accuracy: 0.5463\n",
      "Epoch 103/200\n",
      "7/7 [==============================] - 6s 857ms/step - loss: 0.0903 - accuracy: 1.0000 - val_loss: 1.3186 - val_accuracy: 0.5370\n",
      "Epoch 104/200\n",
      "7/7 [==============================] - 6s 830ms/step - loss: 0.0871 - accuracy: 1.0000 - val_loss: 1.3172 - val_accuracy: 0.5417\n",
      "Epoch 105/200\n",
      "7/7 [==============================] - 6s 832ms/step - loss: 0.0833 - accuracy: 1.0000 - val_loss: 1.3224 - val_accuracy: 0.5324\n",
      "Epoch 106/200\n",
      "7/7 [==============================] - 6s 863ms/step - loss: 0.0811 - accuracy: 1.0000 - val_loss: 1.3062 - val_accuracy: 0.5417\n",
      "Epoch 107/200\n",
      "7/7 [==============================] - 6s 838ms/step - loss: 0.0795 - accuracy: 1.0000 - val_loss: 1.3256 - val_accuracy: 0.5556\n",
      "Epoch 108/200\n",
      "7/7 [==============================] - 6s 805ms/step - loss: 0.0752 - accuracy: 1.0000 - val_loss: 1.3167 - val_accuracy: 0.5417\n",
      "Epoch 109/200\n",
      "7/7 [==============================] - 6s 885ms/step - loss: 0.0731 - accuracy: 1.0000 - val_loss: 1.3193 - val_accuracy: 0.5370\n",
      "Epoch 110/200\n",
      "7/7 [==============================] - 7s 943ms/step - loss: 0.0719 - accuracy: 1.0000 - val_loss: 1.3186 - val_accuracy: 0.5463\n",
      "Epoch 111/200\n",
      "7/7 [==============================] - 6s 825ms/step - loss: 0.0703 - accuracy: 1.0000 - val_loss: 1.3247 - val_accuracy: 0.5417\n",
      "Epoch 112/200\n",
      "7/7 [==============================] - 6s 859ms/step - loss: 0.0697 - accuracy: 1.0000 - val_loss: 1.3243 - val_accuracy: 0.5463\n",
      "Epoch 113/200\n",
      "7/7 [==============================] - 6s 839ms/step - loss: 0.0641 - accuracy: 1.0000 - val_loss: 1.3283 - val_accuracy: 0.5417\n",
      "Epoch 114/200\n",
      "7/7 [==============================] - 6s 821ms/step - loss: 0.0632 - accuracy: 1.0000 - val_loss: 1.3261 - val_accuracy: 0.5463\n",
      "Epoch 115/200\n",
      "7/7 [==============================] - 6s 795ms/step - loss: 0.0613 - accuracy: 1.0000 - val_loss: 1.3219 - val_accuracy: 0.5463\n",
      "Epoch 116/200\n",
      "7/7 [==============================] - 6s 799ms/step - loss: 0.0633 - accuracy: 1.0000 - val_loss: 1.3312 - val_accuracy: 0.5509\n",
      "Epoch 117/200\n",
      "7/7 [==============================] - 6s 822ms/step - loss: 0.0602 - accuracy: 1.0000 - val_loss: 1.3354 - val_accuracy: 0.5509\n",
      "Epoch 118/200\n",
      "7/7 [==============================] - 6s 847ms/step - loss: 0.0579 - accuracy: 1.0000 - val_loss: 1.3262 - val_accuracy: 0.5509\n",
      "Epoch 119/200\n",
      "7/7 [==============================] - 6s 811ms/step - loss: 0.0543 - accuracy: 1.0000 - val_loss: 1.3261 - val_accuracy: 0.5694\n",
      "Epoch 120/200\n",
      "7/7 [==============================] - 6s 861ms/step - loss: 0.0564 - accuracy: 1.0000 - val_loss: 1.3278 - val_accuracy: 0.5556\n",
      "Epoch 121/200\n",
      "7/7 [==============================] - 6s 922ms/step - loss: 0.0516 - accuracy: 1.0000 - val_loss: 1.3351 - val_accuracy: 0.5602\n",
      "Epoch 122/200\n",
      "7/7 [==============================] - 7s 1s/step - loss: 0.0521 - accuracy: 1.0000 - val_loss: 1.3281 - val_accuracy: 0.5648\n",
      "Epoch 123/200\n",
      "7/7 [==============================] - 8s 1s/step - loss: 0.0492 - accuracy: 1.0000 - val_loss: 1.3313 - val_accuracy: 0.5648\n",
      "Epoch 124/200\n",
      "7/7 [==============================] - 8s 1s/step - loss: 0.0491 - accuracy: 1.0000 - val_loss: 1.3399 - val_accuracy: 0.5602\n",
      "Epoch 125/200\n",
      "7/7 [==============================] - 8s 1s/step - loss: 0.0461 - accuracy: 1.0000 - val_loss: 1.3411 - val_accuracy: 0.5509\n",
      "Epoch 126/200\n",
      "7/7 [==============================] - 8s 1s/step - loss: 0.0433 - accuracy: 1.0000 - val_loss: 1.3404 - val_accuracy: 0.5463\n",
      "Epoch 127/200\n",
      "7/7 [==============================] - 8s 1s/step - loss: 0.0438 - accuracy: 1.0000 - val_loss: 1.3375 - val_accuracy: 0.5602\n",
      "Epoch 128/200\n",
      "7/7 [==============================] - 7s 1s/step - loss: 0.0424 - accuracy: 1.0000 - val_loss: 1.3435 - val_accuracy: 0.5694\n",
      "Epoch 129/200\n",
      "7/7 [==============================] - 7s 1s/step - loss: 0.0390 - accuracy: 1.0000 - val_loss: 1.3592 - val_accuracy: 0.5602\n",
      "Epoch 130/200\n",
      "7/7 [==============================] - 7s 1s/step - loss: 0.0393 - accuracy: 1.0000 - val_loss: 1.3534 - val_accuracy: 0.5556\n",
      "Epoch 131/200\n",
      "7/7 [==============================] - 7s 1s/step - loss: 0.0371 - accuracy: 1.0000 - val_loss: 1.3710 - val_accuracy: 0.5602\n",
      "Epoch 132/200\n",
      "7/7 [==============================] - 8s 1s/step - loss: 0.0381 - accuracy: 1.0000 - val_loss: 1.3490 - val_accuracy: 0.5509\n",
      "Epoch 133/200\n",
      "7/7 [==============================] - 7s 993ms/step - loss: 0.0351 - accuracy: 1.0000 - val_loss: 1.3546 - val_accuracy: 0.5509\n",
      "Epoch 134/200\n",
      "7/7 [==============================] - 7s 967ms/step - loss: 0.0359 - accuracy: 1.0000 - val_loss: 1.3571 - val_accuracy: 0.5556\n",
      "Epoch 135/200\n",
      "7/7 [==============================] - 7s 985ms/step - loss: 0.0345 - accuracy: 1.0000 - val_loss: 1.3648 - val_accuracy: 0.5602\n",
      "Epoch 136/200\n",
      "7/7 [==============================] - 7s 968ms/step - loss: 0.0350 - accuracy: 1.0000 - val_loss: 1.3657 - val_accuracy: 0.5602\n",
      "Epoch 137/200\n",
      "7/7 [==============================] - 7s 992ms/step - loss: 0.0317 - accuracy: 1.0000 - val_loss: 1.3644 - val_accuracy: 0.5556\n",
      "Epoch 138/200\n",
      "7/7 [==============================] - 7s 970ms/step - loss: 0.0301 - accuracy: 1.0000 - val_loss: 1.3594 - val_accuracy: 0.5694\n",
      "Epoch 139/200\n",
      "7/7 [==============================] - 7s 973ms/step - loss: 0.0297 - accuracy: 1.0000 - val_loss: 1.3674 - val_accuracy: 0.5509\n",
      "Epoch 140/200\n",
      "7/7 [==============================] - 7s 971ms/step - loss: 0.0298 - accuracy: 1.0000 - val_loss: 1.3693 - val_accuracy: 0.5648\n",
      "Epoch 141/200\n",
      "7/7 [==============================] - 7s 964ms/step - loss: 0.0283 - accuracy: 1.0000 - val_loss: 1.3840 - val_accuracy: 0.5509\n",
      "Epoch 142/200\n",
      "7/7 [==============================] - 7s 970ms/step - loss: 0.0258 - accuracy: 1.0000 - val_loss: 1.3720 - val_accuracy: 0.5648\n",
      "Epoch 143/200\n",
      "7/7 [==============================] - 7s 968ms/step - loss: 0.0260 - accuracy: 1.0000 - val_loss: 1.3824 - val_accuracy: 0.5556\n",
      "Epoch 144/200\n",
      "7/7 [==============================] - 8s 1s/step - loss: 0.0250 - accuracy: 1.0000 - val_loss: 1.3802 - val_accuracy: 0.5694\n",
      "Epoch 145/200\n",
      "7/7 [==============================] - 7s 996ms/step - loss: 0.0245 - accuracy: 1.0000 - val_loss: 1.3664 - val_accuracy: 0.5648\n",
      "Epoch 146/200\n",
      "7/7 [==============================] - 7s 970ms/step - loss: 0.0238 - accuracy: 1.0000 - val_loss: 1.3820 - val_accuracy: 0.5787\n",
      "Epoch 147/200\n",
      "7/7 [==============================] - 7s 979ms/step - loss: 0.0227 - accuracy: 1.0000 - val_loss: 1.3740 - val_accuracy: 0.5787\n",
      "Epoch 148/200\n",
      "7/7 [==============================] - 7s 960ms/step - loss: 0.0239 - accuracy: 1.0000 - val_loss: 1.3830 - val_accuracy: 0.5787\n",
      "Epoch 149/200\n",
      "7/7 [==============================] - 7s 951ms/step - loss: 0.0210 - accuracy: 1.0000 - val_loss: 1.3874 - val_accuracy: 0.5741\n",
      "Epoch 150/200\n",
      "7/7 [==============================] - 6s 927ms/step - loss: 0.0226 - accuracy: 1.0000 - val_loss: 1.3937 - val_accuracy: 0.5694\n",
      "Epoch 151/200\n",
      "7/7 [==============================] - 7s 928ms/step - loss: 0.0203 - accuracy: 1.0000 - val_loss: 1.3909 - val_accuracy: 0.5694\n",
      "Epoch 152/200\n",
      "7/7 [==============================] - 6s 914ms/step - loss: 0.0204 - accuracy: 1.0000 - val_loss: 1.3915 - val_accuracy: 0.5787\n",
      "Epoch 153/200\n",
      "7/7 [==============================] - 7s 962ms/step - loss: 0.0185 - accuracy: 1.0000 - val_loss: 1.3922 - val_accuracy: 0.5694\n",
      "Epoch 154/200\n",
      "7/7 [==============================] - 7s 946ms/step - loss: 0.0201 - accuracy: 1.0000 - val_loss: 1.3894 - val_accuracy: 0.5833\n",
      "Epoch 155/200\n",
      "7/7 [==============================] - 7s 947ms/step - loss: 0.0177 - accuracy: 1.0000 - val_loss: 1.3919 - val_accuracy: 0.5833\n",
      "Epoch 156/200\n",
      "7/7 [==============================] - 6s 925ms/step - loss: 0.0187 - accuracy: 1.0000 - val_loss: 1.3940 - val_accuracy: 0.5880\n",
      "Epoch 157/200\n",
      "7/7 [==============================] - 7s 954ms/step - loss: 0.0181 - accuracy: 1.0000 - val_loss: 1.4115 - val_accuracy: 0.5833\n",
      "Epoch 158/200\n",
      "7/7 [==============================] - 7s 978ms/step - loss: 0.0161 - accuracy: 1.0000 - val_loss: 1.3994 - val_accuracy: 0.5787\n",
      "Epoch 159/200\n",
      "7/7 [==============================] - 7s 948ms/step - loss: 0.0160 - accuracy: 1.0000 - val_loss: 1.4031 - val_accuracy: 0.5926\n",
      "Epoch 160/200\n",
      "7/7 [==============================] - 7s 950ms/step - loss: 0.0156 - accuracy: 1.0000 - val_loss: 1.4037 - val_accuracy: 0.5787\n",
      "Epoch 161/200\n",
      "7/7 [==============================] - 7s 934ms/step - loss: 0.0170 - accuracy: 1.0000 - val_loss: 1.4083 - val_accuracy: 0.5833\n",
      "Epoch 162/200\n",
      "7/7 [==============================] - 7s 943ms/step - loss: 0.0147 - accuracy: 1.0000 - val_loss: 1.4099 - val_accuracy: 0.5880\n",
      "Epoch 163/200\n",
      "7/7 [==============================] - 6s 918ms/step - loss: 0.0137 - accuracy: 1.0000 - val_loss: 1.4109 - val_accuracy: 0.5972\n",
      "Epoch 164/200\n",
      "7/7 [==============================] - 6s 910ms/step - loss: 0.0138 - accuracy: 1.0000 - val_loss: 1.4108 - val_accuracy: 0.5833\n",
      "Epoch 165/200\n",
      "7/7 [==============================] - 6s 911ms/step - loss: 0.0132 - accuracy: 1.0000 - val_loss: 1.4183 - val_accuracy: 0.5926\n",
      "Epoch 166/200\n",
      "7/7 [==============================] - 6s 913ms/step - loss: 0.0126 - accuracy: 1.0000 - val_loss: 1.4232 - val_accuracy: 0.5880\n",
      "Epoch 167/200\n",
      "7/7 [==============================] - 6s 919ms/step - loss: 0.0133 - accuracy: 1.0000 - val_loss: 1.4187 - val_accuracy: 0.5833\n",
      "Epoch 168/200\n",
      "7/7 [==============================] - 6s 918ms/step - loss: 0.0120 - accuracy: 1.0000 - val_loss: 1.4299 - val_accuracy: 0.5833\n",
      "Epoch 169/200\n",
      "7/7 [==============================] - 6s 912ms/step - loss: 0.0114 - accuracy: 1.0000 - val_loss: 1.4216 - val_accuracy: 0.5926\n",
      "Epoch 170/200\n",
      "7/7 [==============================] - 6s 910ms/step - loss: 0.0107 - accuracy: 1.0000 - val_loss: 1.4377 - val_accuracy: 0.5880\n",
      "Epoch 171/200\n",
      "7/7 [==============================] - 7s 968ms/step - loss: 0.0105 - accuracy: 1.0000 - val_loss: 1.4323 - val_accuracy: 0.5926\n",
      "Epoch 172/200\n",
      "7/7 [==============================] - 6s 918ms/step - loss: 0.0106 - accuracy: 1.0000 - val_loss: 1.4415 - val_accuracy: 0.5972\n",
      "Epoch 173/200\n",
      "7/7 [==============================] - 6s 910ms/step - loss: 0.0104 - accuracy: 1.0000 - val_loss: 1.4379 - val_accuracy: 0.5972\n",
      "Epoch 174/200\n",
      "7/7 [==============================] - 6s 916ms/step - loss: 0.0095 - accuracy: 1.0000 - val_loss: 1.4367 - val_accuracy: 0.5833\n",
      "Epoch 175/200\n",
      "7/7 [==============================] - 6s 914ms/step - loss: 0.0093 - accuracy: 1.0000 - val_loss: 1.4530 - val_accuracy: 0.5926\n",
      "Epoch 176/200\n",
      "7/7 [==============================] - 6s 921ms/step - loss: 0.0088 - accuracy: 1.0000 - val_loss: 1.4467 - val_accuracy: 0.5972\n",
      "Epoch 177/200\n",
      "7/7 [==============================] - 6s 916ms/step - loss: 0.0092 - accuracy: 1.0000 - val_loss: 1.4506 - val_accuracy: 0.5926\n",
      "Epoch 178/200\n",
      "7/7 [==============================] - 6s 908ms/step - loss: 0.0093 - accuracy: 1.0000 - val_loss: 1.4536 - val_accuracy: 0.5926\n",
      "Epoch 179/200\n",
      "7/7 [==============================] - 7s 965ms/step - loss: 0.0081 - accuracy: 1.0000 - val_loss: 1.4480 - val_accuracy: 0.5972\n",
      "Epoch 180/200\n",
      "7/7 [==============================] - 7s 945ms/step - loss: 0.0080 - accuracy: 1.0000 - val_loss: 1.4571 - val_accuracy: 0.5926\n",
      "Epoch 181/200\n",
      "7/7 [==============================] - 6s 908ms/step - loss: 0.0078 - accuracy: 1.0000 - val_loss: 1.4634 - val_accuracy: 0.5972\n",
      "Epoch 182/200\n",
      "7/7 [==============================] - 6s 910ms/step - loss: 0.0077 - accuracy: 1.0000 - val_loss: 1.4567 - val_accuracy: 0.6019\n",
      "Epoch 183/200\n",
      "7/7 [==============================] - 6s 912ms/step - loss: 0.0075 - accuracy: 1.0000 - val_loss: 1.4562 - val_accuracy: 0.6065\n",
      "Epoch 184/200\n",
      "7/7 [==============================] - 6s 922ms/step - loss: 0.0070 - accuracy: 1.0000 - val_loss: 1.4498 - val_accuracy: 0.5972\n",
      "Epoch 185/200\n",
      "7/7 [==============================] - 7s 957ms/step - loss: 0.0076 - accuracy: 1.0000 - val_loss: 1.4555 - val_accuracy: 0.5972\n",
      "Epoch 186/200\n",
      "7/7 [==============================] - 6s 919ms/step - loss: 0.0067 - accuracy: 1.0000 - val_loss: 1.4764 - val_accuracy: 0.5972\n",
      "Epoch 187/200\n",
      "7/7 [==============================] - 7s 963ms/step - loss: 0.0063 - accuracy: 1.0000 - val_loss: 1.4697 - val_accuracy: 0.6019\n",
      "Epoch 188/200\n",
      "7/7 [==============================] - 7s 974ms/step - loss: 0.0064 - accuracy: 1.0000 - val_loss: 1.4689 - val_accuracy: 0.5926\n",
      "Epoch 189/200\n",
      "7/7 [==============================] - 7s 958ms/step - loss: 0.0061 - accuracy: 1.0000 - val_loss: 1.4721 - val_accuracy: 0.5926\n",
      "Epoch 190/200\n",
      "7/7 [==============================] - 7s 1s/step - loss: 0.0062 - accuracy: 1.0000 - val_loss: 1.4938 - val_accuracy: 0.5926\n",
      "Epoch 191/200\n",
      "7/7 [==============================] - 7s 930ms/step - loss: 0.0059 - accuracy: 1.0000 - val_loss: 1.4861 - val_accuracy: 0.5972\n",
      "Epoch 192/200\n",
      "7/7 [==============================] - 6s 923ms/step - loss: 0.0058 - accuracy: 1.0000 - val_loss: 1.4882 - val_accuracy: 0.5972\n",
      "Epoch 193/200\n",
      "7/7 [==============================] - 6s 911ms/step - loss: 0.0055 - accuracy: 1.0000 - val_loss: 1.4845 - val_accuracy: 0.5972\n",
      "Epoch 194/200\n",
      "7/7 [==============================] - 6s 921ms/step - loss: 0.0050 - accuracy: 1.0000 - val_loss: 1.4884 - val_accuracy: 0.6019\n",
      "Epoch 195/200\n",
      "7/7 [==============================] - 7s 942ms/step - loss: 0.0052 - accuracy: 1.0000 - val_loss: 1.4975 - val_accuracy: 0.5880\n",
      "Epoch 196/200\n",
      "7/7 [==============================] - 7s 952ms/step - loss: 0.0048 - accuracy: 1.0000 - val_loss: 1.4946 - val_accuracy: 0.5972\n",
      "Epoch 197/200\n",
      "7/7 [==============================] - 7s 986ms/step - loss: 0.0048 - accuracy: 1.0000 - val_loss: 1.4951 - val_accuracy: 0.5972\n",
      "Epoch 198/200\n",
      "7/7 [==============================] - 7s 935ms/step - loss: 0.0046 - accuracy: 1.0000 - val_loss: 1.5081 - val_accuracy: 0.5926\n",
      "Epoch 199/200\n",
      "7/7 [==============================] - 7s 953ms/step - loss: 0.0046 - accuracy: 1.0000 - val_loss: 1.5020 - val_accuracy: 0.5972\n",
      "Epoch 200/200\n",
      "7/7 [==============================] - 7s 1s/step - loss: 0.0047 - accuracy: 1.0000 - val_loss: 1.5138 - val_accuracy: 0.5926\n"
     ]
    }
   ],
   "source": [
    "cnnhistory = model.fit(X_train, y_train, batch_size=128, epochs=200, validation_data=(X_val, y_val))"
   ],
   "metadata": {
    "collapsed": false
   }
  },
  {
   "cell_type": "markdown",
   "source": [
    "##### 绘制模型的损失函数变化曲线"
   ],
   "metadata": {
    "collapsed": false
   }
  },
  {
   "cell_type": "code",
   "execution_count": 14,
   "outputs": [
    {
     "data": {
      "text/plain": "<Figure size 640x480 with 1 Axes>",
      "image/png": "[encoded data removed]"
     },
     "metadata": {},
     "output_type": "display_data"
    },
    {
     "data": {
      "text/plain": "<Figure size 640x480 with 0 Axes>"
     },
     "metadata": {},
     "output_type": "display_data"
    }
   ],
   "source": [
    "plt.plot(cnnhistory.history['loss'])\n",
    "plt.plot(cnnhistory.history['val_loss'])\n",
    "plt.title('model loss')\n",
    "plt.ylabel('loss')\n",
    "plt.xlabel('epoch')\n",
    "plt.legend(['train', 'val'], loc='upper right')\n",
    "plt.show()\n",
    "plt.savefig(\"images/loss.png\")"
   ],
   "metadata": {
    "collapsed": false
   }
  },
  {
   "cell_type": "markdown",
   "source": [
    "##### 绘制模型准确率变化曲线"
   ],
   "metadata": {
    "collapsed": false
   }
  },
  {
   "cell_type": "code",
   "execution_count": 15,
   "outputs": [
    {
     "data": {
      "text/plain": "<Figure size 640x480 with 1 Axes>",
      "image/png": "[encoded data removed]"
     },
     "metadata": {},
     "output_type": "display_data"
    },
    {
     "data": {
      "text/plain": "<Figure size 640x480 with 0 Axes>"
     },
     "metadata": {},
     "output_type": "display_data"
    }
   ],
   "source": [
    "plt.plot(cnnhistory.history['accuracy'])\n",
    "plt.plot(cnnhistory.history['val_accuracy'])\n",
    "plt.title('model accuracy')\n",
    "plt.ylabel('accuracy')\n",
    "plt.xlabel('epoch')\n",
    "plt.legend(['train', 'val'], loc='upper right')\n",
    "plt.show()\n",
    "plt.savefig(\"images/accuracy.png\")"
   ],
   "metadata": {
    "collapsed": false
   }
  },
  {
   "cell_type": "markdown",
   "source": [
    "##### 保存模型结果"
   ],
   "metadata": {
    "collapsed": false
   }
  },
  {
   "cell_type": "code",
   "execution_count": 16,
   "outputs": [],
   "source": [
    "model_name = 'model_emotion.h5'\n",
    "save_dir = os.path.join(os.getcwd(), 'models')\n",
    "if not os.path.isdir(save_dir):\n",
    "    os.makedirs(save_dir)\n",
    "model_path = os.path.join(save_dir, model_name)\n",
    "model.save(model_path)\n",
    "model_json = model.to_json()\n",
    "with open(\"models/model_emotion.json\", \"w\") as json_file:\n",
    "    json_file.write(model_json)"
   ],
   "metadata": {
    "collapsed": false
   }
  },
  {
   "cell_type": "markdown",
   "source": [
    "##### 加载模型数据用于测试"
   ],
   "metadata": {
    "collapsed": false
   }
  },
  {
   "cell_type": "code",
   "execution_count": 17,
   "outputs": [
    {
     "name": "stdout",
     "output_type": "stream",
     "text": [
      "Loaded model from disk\n",
      "accuracy: 62.50%\n"
     ]
    }
   ],
   "source": [
    "json_file = open('models/model_emotion.json', 'r')\n",
    "loaded_model_json = json_file.read()\n",
    "json_file.close()\n",
    "loaded_model = model_from_json(loaded_model_json)\n",
    "# load weights into new model\n",
    "loaded_model.load_weights(\"models/model_emotion.h5\")\n",
    "print(\"Loaded model from disk\")\n",
    "\n",
    "# evaluate loaded model on test data\n",
    "loaded_model.compile(loss='categorical_crossentropy', optimizer=opt, metrics=['accuracy'])\n",
    "score = loaded_model.evaluate(X_test, y_test, verbose=0)\n",
    "print(\"%s: %.2f%%\" % (loaded_model.metrics_names[1], score[1] * 100))"
   ],
   "metadata": {
    "collapsed": false
   }
  },
  {
   "cell_type": "markdown",
   "source": [
    "##### 获取预测结果和真实结果"
   ],
   "metadata": {
    "collapsed": false
   }
  },
  {
   "cell_type": "code",
   "execution_count": 18,
   "outputs": [
    {
     "name": "stdout",
     "output_type": "stream",
     "text": [
      "4/4 [==============================] - 0s 41ms/step\n"
     ]
    },
    {
     "data": {
      "text/plain": "    predictedvalues\n0           neutral\n1           neutral\n2          surprise\n3           neutral\n4          surprise\n..              ...\n115           angry\n116        surprise\n117        surprise\n118             sad\n119        surprise\n\n[120 rows x 1 columns]",
      "text/html": "<div>\n<style scoped>\n    .dataframe tbody tr th:only-of-type {\n        vertical-align: middle;\n    }\n\n    .dataframe tbody tr th {\n        vertical-align: top;\n    }\n\n    .dataframe thead th {\n        text-align: right;\n    }\n</style>\n<table border=\"1\" class=\"dataframe\">\n  <thead>\n    <tr style=\"text-align: right;\">\n      <th></th>\n      <th>predictedvalues</th>\n    </tr>\n  </thead>\n  <tbody>\n    <tr>\n      <th>0</th>\n      <td>neutral</td>\n    </tr>\n    <tr>\n      <th>1</th>\n      <td>neutral</td>\n    </tr>\n    <tr>\n      <th>2</th>\n      <td>surprise</td>\n    </tr>\n    <tr>\n      <th>3</th>\n      <td>neutral</td>\n    </tr>\n    <tr>\n      <th>4</th>\n      <td>surprise</td>\n    </tr>\n    <tr>\n      <th>...</th>\n      <td>...</td>\n    </tr>\n    <tr>\n      <th>115</th>\n      <td>angry</td>\n    </tr>\n    <tr>\n      <th>116</th>\n      <td>surprise</td>\n    </tr>\n    <tr>\n      <th>117</th>\n      <td>surprise</td>\n    </tr>\n    <tr>\n      <th>118</th>\n      <td>sad</td>\n    </tr>\n    <tr>\n      <th>119</th>\n      <td>surprise</td>\n    </tr>\n  </tbody>\n</table>\n<p>120 rows × 1 columns</p>\n</div>"
     },
     "execution_count": 18,
     "metadata": {},
     "output_type": "execute_result"
    }
   ],
   "source": [
    "preds = loaded_model.predict(X_test, batch_size=32, verbose=1)\n",
    "preds = preds.argmax(axis=1)\n",
    "preds = preds.astype(int).flatten()\n",
    "preds = (lb.inverse_transform(preds))\n",
    "preddf = pd.DataFrame({'predictedvalues': preds})\n",
    "preddf"
   ],
   "metadata": {
    "collapsed": false
   }
  },
  {
   "cell_type": "code",
   "execution_count": 19,
   "outputs": [
    {
     "data": {
      "text/plain": "    actualvalues\n0          happy\n1       surprise\n2        neutral\n3          happy\n4       surprise\n..           ...\n115        angry\n116     surprise\n117        angry\n118          sad\n119     surprise\n\n[120 rows x 1 columns]",
      "text/html": "<div>\n<style scoped>\n    .dataframe tbody tr th:only-of-type {\n        vertical-align: middle;\n    }\n\n    .dataframe tbody tr th {\n        vertical-align: top;\n    }\n\n    .dataframe thead th {\n        text-align: right;\n    }\n</style>\n<table border=\"1\" class=\"dataframe\">\n  <thead>\n    <tr style=\"text-align: right;\">\n      <th></th>\n      <th>actualvalues</th>\n    </tr>\n  </thead>\n  <tbody>\n    <tr>\n      <th>0</th>\n      <td>happy</td>\n    </tr>\n    <tr>\n      <th>1</th>\n      <td>surprise</td>\n    </tr>\n    <tr>\n      <th>2</th>\n      <td>neutral</td>\n    </tr>\n    <tr>\n      <th>3</th>\n      <td>happy</td>\n    </tr>\n    <tr>\n      <th>4</th>\n      <td>surprise</td>\n    </tr>\n    <tr>\n      <th>...</th>\n      <td>...</td>\n    </tr>\n    <tr>\n      <th>115</th>\n      <td>angry</td>\n    </tr>\n    <tr>\n      <th>116</th>\n      <td>surprise</td>\n    </tr>\n    <tr>\n      <th>117</th>\n      <td>angry</td>\n    </tr>\n    <tr>\n      <th>118</th>\n      <td>sad</td>\n    </tr>\n    <tr>\n      <th>119</th>\n      <td>surprise</td>\n    </tr>\n  </tbody>\n</table>\n<p>120 rows × 1 columns</p>\n</div>"
     },
     "execution_count": 19,
     "metadata": {},
     "output_type": "execute_result"
    }
   ],
   "source": [
    "actual = y_test.argmax(axis=1)\n",
    "actual = actual.astype(int).flatten()\n",
    "actual = (lb.inverse_transform(actual))\n",
    "actualdf = pd.DataFrame({'actualvalues': actual})\n",
    "actualdf"
   ],
   "metadata": {
    "collapsed": false
   }
  },
  {
   "cell_type": "code",
   "execution_count": 20,
   "outputs": [
    {
     "data": {
      "text/plain": "    actualvalues predictedvalues\n0          happy         neutral\n1       surprise         neutral\n2        neutral        surprise\n3          happy         neutral\n4       surprise        surprise\n..           ...             ...\n115        angry           angry\n116     surprise        surprise\n117        angry        surprise\n118          sad             sad\n119     surprise        surprise\n\n[120 rows x 2 columns]",
      "text/html": "<div>\n<style scoped>\n    .dataframe tbody tr th:only-of-type {\n        vertical-align: middle;\n    }\n\n    .dataframe tbody tr th {\n        vertical-align: top;\n    }\n\n    .dataframe thead th {\n        text-align: right;\n    }\n</style>\n<table border=\"1\" class=\"dataframe\">\n  <thead>\n    <tr style=\"text-align: right;\">\n      <th></th>\n      <th>actualvalues</th>\n      <th>predictedvalues</th>\n    </tr>\n  </thead>\n  <tbody>\n    <tr>\n      <th>0</th>\n      <td>happy</td>\n      <td>neutral</td>\n    </tr>\n    <tr>\n      <th>1</th>\n      <td>surprise</td>\n      <td>neutral</td>\n    </tr>\n    <tr>\n      <th>2</th>\n      <td>neutral</td>\n      <td>surprise</td>\n    </tr>\n    <tr>\n      <th>3</th>\n      <td>happy</td>\n      <td>neutral</td>\n    </tr>\n    <tr>\n      <th>4</th>\n      <td>surprise</td>\n      <td>surprise</td>\n    </tr>\n    <tr>\n      <th>...</th>\n      <td>...</td>\n      <td>...</td>\n    </tr>\n    <tr>\n      <th>115</th>\n      <td>angry</td>\n      <td>angry</td>\n    </tr>\n    <tr>\n      <th>116</th>\n      <td>surprise</td>\n      <td>surprise</td>\n    </tr>\n    <tr>\n      <th>117</th>\n      <td>angry</td>\n      <td>surprise</td>\n    </tr>\n    <tr>\n      <th>118</th>\n      <td>sad</td>\n      <td>sad</td>\n    </tr>\n    <tr>\n      <th>119</th>\n      <td>surprise</td>\n      <td>surprise</td>\n    </tr>\n  </tbody>\n</table>\n<p>120 rows × 2 columns</p>\n</div>"
     },
     "execution_count": 20,
     "metadata": {},
     "output_type": "execute_result"
    }
   ],
   "source": [
    "finaldf = actualdf.join(preddf)\n",
    "finaldf"
   ],
   "metadata": {
    "collapsed": false
   }
  },
  {
   "cell_type": "code",
   "execution_count": 21,
   "outputs": [],
   "source": [
    "finaldf.to_csv('result_emotion.csv', index=False)"
   ],
   "metadata": {
    "collapsed": false
   }
  },
  {
   "cell_type": "code",
   "execution_count": 22,
   "outputs": [
    {
     "data": {
      "text/plain": "8807"
     },
     "execution_count": 22,
     "metadata": {},
     "output_type": "execute_result"
    }
   ],
   "source": [
    "gc.collect()"
   ],
   "metadata": {
    "collapsed": false
   }
  }
 ],
 "metadata": {
  "kernelspec": {
   "display_name": "Python 3",
   "language": "python",
   "name": "python3"
  },
  "language_info": {
   "codemirror_mode": {
    "name": "ipython",
    "version": 2
   },
   "file_extension": ".py",
   "mimetype": "text/x-python",
   "name": "python",
   "nbconvert_exporter": "python",
   "pygments_lexer": "ipython2",
   "version": "2.7.6"
  }
 },
 "nbformat": 4,
 "nbformat_minor": 0
}
